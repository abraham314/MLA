{
 "cells": [
  {
   "cell_type": "markdown",
   "metadata": {},
   "source": [
    "# Filter Spam \n",
    "Abraham Nieto cu 51556"
   ]
  },
  {
   "cell_type": "code",
   "execution_count": 741,
   "metadata": {
    "collapsed": false
   },
   "outputs": [],
   "source": [
    "import numpy as np \n",
    "import pandas as pd \n",
    "from sklearn.cross_validation import train_test_split \n",
    "import math\n",
    "from sklearn.metrics import confusion_matrix\n",
    "from scipy.stats import norm\n",
    "from sklearn import preprocessing\n",
    "from random import random"
   ]
  },
  {
   "cell_type": "code",
   "execution_count": 742,
   "metadata": {
    "collapsed": false
   },
   "outputs": [
    {
     "data": {
      "text/html": [
       "<div>\n",
       "<table border=\"1\" class=\"dataframe\">\n",
       "  <thead>\n",
       "    <tr style=\"text-align: right;\">\n",
       "      <th></th>\n",
       "      <th>0</th>\n",
       "      <th>1</th>\n",
       "      <th>2</th>\n",
       "      <th>3</th>\n",
       "      <th>4</th>\n",
       "      <th>5</th>\n",
       "      <th>6</th>\n",
       "      <th>7</th>\n",
       "      <th>8</th>\n",
       "      <th>9</th>\n",
       "      <th>...</th>\n",
       "      <th>48</th>\n",
       "      <th>49</th>\n",
       "      <th>50</th>\n",
       "      <th>51</th>\n",
       "      <th>52</th>\n",
       "      <th>53</th>\n",
       "      <th>54</th>\n",
       "      <th>55</th>\n",
       "      <th>56</th>\n",
       "      <th>57</th>\n",
       "    </tr>\n",
       "  </thead>\n",
       "  <tbody>\n",
       "    <tr>\n",
       "      <th>0</th>\n",
       "      <td>0.00</td>\n",
       "      <td>0.64</td>\n",
       "      <td>0.64</td>\n",
       "      <td>0.0</td>\n",
       "      <td>0.32</td>\n",
       "      <td>0.00</td>\n",
       "      <td>0.00</td>\n",
       "      <td>0.00</td>\n",
       "      <td>0.00</td>\n",
       "      <td>0.00</td>\n",
       "      <td>...</td>\n",
       "      <td>0.00</td>\n",
       "      <td>0.000</td>\n",
       "      <td>0.0</td>\n",
       "      <td>0.778</td>\n",
       "      <td>0.000</td>\n",
       "      <td>0.000</td>\n",
       "      <td>3.756</td>\n",
       "      <td>61</td>\n",
       "      <td>278</td>\n",
       "      <td>1</td>\n",
       "    </tr>\n",
       "    <tr>\n",
       "      <th>1</th>\n",
       "      <td>0.21</td>\n",
       "      <td>0.28</td>\n",
       "      <td>0.50</td>\n",
       "      <td>0.0</td>\n",
       "      <td>0.14</td>\n",
       "      <td>0.28</td>\n",
       "      <td>0.21</td>\n",
       "      <td>0.07</td>\n",
       "      <td>0.00</td>\n",
       "      <td>0.94</td>\n",
       "      <td>...</td>\n",
       "      <td>0.00</td>\n",
       "      <td>0.132</td>\n",
       "      <td>0.0</td>\n",
       "      <td>0.372</td>\n",
       "      <td>0.180</td>\n",
       "      <td>0.048</td>\n",
       "      <td>5.114</td>\n",
       "      <td>101</td>\n",
       "      <td>1028</td>\n",
       "      <td>1</td>\n",
       "    </tr>\n",
       "    <tr>\n",
       "      <th>2</th>\n",
       "      <td>0.06</td>\n",
       "      <td>0.00</td>\n",
       "      <td>0.71</td>\n",
       "      <td>0.0</td>\n",
       "      <td>1.23</td>\n",
       "      <td>0.19</td>\n",
       "      <td>0.19</td>\n",
       "      <td>0.12</td>\n",
       "      <td>0.64</td>\n",
       "      <td>0.25</td>\n",
       "      <td>...</td>\n",
       "      <td>0.01</td>\n",
       "      <td>0.143</td>\n",
       "      <td>0.0</td>\n",
       "      <td>0.276</td>\n",
       "      <td>0.184</td>\n",
       "      <td>0.010</td>\n",
       "      <td>9.821</td>\n",
       "      <td>485</td>\n",
       "      <td>2259</td>\n",
       "      <td>1</td>\n",
       "    </tr>\n",
       "    <tr>\n",
       "      <th>3</th>\n",
       "      <td>0.00</td>\n",
       "      <td>0.00</td>\n",
       "      <td>0.00</td>\n",
       "      <td>0.0</td>\n",
       "      <td>0.63</td>\n",
       "      <td>0.00</td>\n",
       "      <td>0.31</td>\n",
       "      <td>0.63</td>\n",
       "      <td>0.31</td>\n",
       "      <td>0.63</td>\n",
       "      <td>...</td>\n",
       "      <td>0.00</td>\n",
       "      <td>0.137</td>\n",
       "      <td>0.0</td>\n",
       "      <td>0.137</td>\n",
       "      <td>0.000</td>\n",
       "      <td>0.000</td>\n",
       "      <td>3.537</td>\n",
       "      <td>40</td>\n",
       "      <td>191</td>\n",
       "      <td>1</td>\n",
       "    </tr>\n",
       "    <tr>\n",
       "      <th>4</th>\n",
       "      <td>0.00</td>\n",
       "      <td>0.00</td>\n",
       "      <td>0.00</td>\n",
       "      <td>0.0</td>\n",
       "      <td>0.63</td>\n",
       "      <td>0.00</td>\n",
       "      <td>0.31</td>\n",
       "      <td>0.63</td>\n",
       "      <td>0.31</td>\n",
       "      <td>0.63</td>\n",
       "      <td>...</td>\n",
       "      <td>0.00</td>\n",
       "      <td>0.135</td>\n",
       "      <td>0.0</td>\n",
       "      <td>0.135</td>\n",
       "      <td>0.000</td>\n",
       "      <td>0.000</td>\n",
       "      <td>3.537</td>\n",
       "      <td>40</td>\n",
       "      <td>191</td>\n",
       "      <td>1</td>\n",
       "    </tr>\n",
       "  </tbody>\n",
       "</table>\n",
       "<p>5 rows × 58 columns</p>\n",
       "</div>"
      ],
      "text/plain": [
       "     0     1     2    3     4     5     6     7     8     9  ...    48     49  \\\n",
       "0  0.00  0.64  0.64  0.0  0.32  0.00  0.00  0.00  0.00  0.00 ...  0.00  0.000   \n",
       "1  0.21  0.28  0.50  0.0  0.14  0.28  0.21  0.07  0.00  0.94 ...  0.00  0.132   \n",
       "2  0.06  0.00  0.71  0.0  1.23  0.19  0.19  0.12  0.64  0.25 ...  0.01  0.143   \n",
       "3  0.00  0.00  0.00  0.0  0.63  0.00  0.31  0.63  0.31  0.63 ...  0.00  0.137   \n",
       "4  0.00  0.00  0.00  0.0  0.63  0.00  0.31  0.63  0.31  0.63 ...  0.00  0.135   \n",
       "\n",
       "    50     51     52     53     54   55    56  57  \n",
       "0  0.0  0.778  0.000  0.000  3.756   61   278   1  \n",
       "1  0.0  0.372  0.180  0.048  5.114  101  1028   1  \n",
       "2  0.0  0.276  0.184  0.010  9.821  485  2259   1  \n",
       "3  0.0  0.137  0.000  0.000  3.537   40   191   1  \n",
       "4  0.0  0.135  0.000  0.000  3.537   40   191   1  \n",
       "\n",
       "[5 rows x 58 columns]"
      ]
     },
     "execution_count": 742,
     "metadata": {},
     "output_type": "execute_result"
    }
   ],
   "source": [
    "nombres = ['make','adress','all','3d','our','over','remove','internet','order','mail',\n",
    "           'receive','will','people','report','addresses','free','busisnes','email','you',\n",
    "           'credit','your','font','a000','money','hp','hpl','george','a650','lab','labs','telnet',\n",
    "           'a857','data','a415','a85','technology','a1999','parts','pm','direct','cs','meeting',\n",
    "           'original','project','re','edu','table','conference',';','(','[','!','$','#',\n",
    "           'capital_run_length_average','capital_run_length_longest','capital_run_length_total','spam'\n",
    "]\n",
    "\n",
    "df=pd.read_table('https://archive.ics.uci.edu/ml/machine-learning-databases/spambase/spambase.data',sep=',',\n",
    "                header=None) \n",
    "\n",
    "#df=pd.DataFrame(np.array(df),columns=[nombres])\n",
    "\n",
    "df.head()"
   ]
  },
  {
   "cell_type": "markdown",
   "metadata": {},
   "source": [
    "Hacemos data partition vams a entrenar con el **70%** de los datos"
   ]
  },
  {
   "cell_type": "code",
   "execution_count": 743,
   "metadata": {
    "collapsed": true
   },
   "outputs": [],
   "source": [
    "dftrain,dftest=train_test_split(df,test_size=0.3,random_state=101) \n",
    "dftest2=dftest.iloc[:,0:57]"
   ]
  },
  {
   "cell_type": "markdown",
   "metadata": {},
   "source": [
    "vamos a calcular las medias y desviaciones estandar par cada variable en los casos que en que los mails son spam y no."
   ]
  },
  {
   "cell_type": "code",
   "execution_count": 779,
   "metadata": {
    "collapsed": false
   },
   "outputs": [],
   "source": [
    "m0=np.mean(dftrain[dftrain[57]==0],0)[:57] #arreglo de medias de las 57 features para poblacion NOspam \n",
    "s0=np.std(dftrain[dftrain[57]==0],0)[:57] #arreglo de desv est de las 57 features para poblacion NOspam \n",
    "m1=np.mean(dftrain[dftrain[57]==1],0)[:57] #arreglo de medias de las 57 features para poblacion spam \n",
    "s1=np.std(dftrain[dftrain[57]==1],0)[:57] #arreglo de desv est de las 57 features para poblacion spam "
   ]
  },
  {
   "cell_type": "markdown",
   "metadata": {},
   "source": [
    "dado que las variables son continuas vamos a suponer que se distribuyen normal, entonces vamos a hacer la funcion de normalidad tomando en cuenta si la desv estandar es cero hay que hacer lago distinto:\n",
    "\n",
    "$\n",
    "\\huge{\\frac{1}{\\sqrt{2\\pi\\sigma^{2}}}e^{-\\frac{(x-\\mu)^{2}}{2\\sigma^{2}}}}\n",
    "$\n"
   ]
  },
  {
   "cell_type": "code",
   "execution_count": 583,
   "metadata": {
    "collapsed": true
   },
   "outputs": [],
   "source": [
    "def pnorm(x,m,s):\n",
    "    if s>0.0:\n",
    "        p=np.exp(-(x-m)**2/(2*s**2))*(1/np.sqrt(2*np.pi*s**2)) \n",
    "    else:\n",
    "        p=1.0\n",
    "    \n",
    "    \n",
    "    return p"
   ]
  },
  {
   "cell_type": "markdown",
   "metadata": {},
   "source": [
    "Queremos clasificar si la observacion es o no spam usando Naive Bayes sabemos que...\n",
    "\n",
    "$\n",
    "P(Spam,NoSpam|x_{0},...x_{56})=P(Spam,NoSpam)*\\frac{\\prod_{i=0}^{56}P(x_{i}|Spam,NoSpam)}{P(x)}\n",
    "$ \n"
   ]
  },
  {
   "cell_type": "markdown",
   "metadata": {},
   "source": [
    "Con logaritmos tenemos:\n",
    "\n",
    "$\n",
    "P(Spam,NoSpam|x_{0},...x_{56})=log(P(Spam,NoSpam))+\\sum_{i=0}^{56}log(P(x_{i}|Spam,NoSpam))\n",
    "$ \n",
    "\n",
    "y ceamos la funcion esta nos dara 2 cosas la probabilidad de pertenecer a spam y la clasificacion..."
   ]
  },
  {
   "cell_type": "code",
   "execution_count": 799,
   "metadata": {
    "collapsed": false
   },
   "outputs": [],
   "source": [
    "#programa que compara valores este se usara para la salida dela funcion de bayes\n",
    "def complog(a,b):\n",
    "    if a>=b:\n",
    "        return 1\n",
    "    else:\n",
    "        return 0\n",
    "    \n",
    "def clasiflog(x,m0,m1,s0,s1,apriori): \n",
    "    \n",
    "    spam=np.log(apriori) \n",
    "    nospam=np.log(1-apriori)\n",
    "    pspam=0.0\n",
    "    pnospam=0.0\n",
    "    \n",
    "    for i in range(len(m0)):\n",
    "\n",
    "            \n",
    "        if pnorm(x[i],m0[i],s0[i])==0.0:\n",
    "            pnospam+=-len(x)*10.0\n",
    "        else:    \n",
    "            pnospam+=np.log(pnorm(x[i],m0[i],s0[i])) \n",
    "\n",
    "    for j in range(len(m1)): \n",
    "\n",
    "            \n",
    "        if pnorm(x[j],m1[j],s1[j])==0.0: # para que no se vaya a infinito topamos el numero\n",
    "            pspam+=-len(x)*10.0\n",
    "        else:\n",
    "            pspam+=np.log(pnorm(x[j],m1[j],s1[j])) \n",
    "      \n",
    "\n",
    "    pspam+=spam\n",
    "    pnospam+=nospam\n",
    "    \n",
    "    \n",
    "    if np.exp(pspam)+np.exp(pnospam)!=0:\n",
    "        return (np.exp(pspam)/(np.exp(pspam)+np.exp(pnospam))),complog(pspam,pnospam)\n",
    "    else:\n",
    "        return 0,0"
   ]
  },
  {
   "cell_type": "code",
   "execution_count": 800,
   "metadata": {
    "collapsed": false
   },
   "outputs": [
    {
     "data": {
      "text/plain": [
       "(3.0569995706712229e-235, 0)"
      ]
     },
     "execution_count": 800,
     "metadata": {},
     "output_type": "execute_result"
    }
   ],
   "source": [
    "clasiflog(dftest2.iloc[40],m0,m1,s0,s1,ap)"
   ]
  },
  {
   "cell_type": "markdown",
   "metadata": {},
   "source": [
    "Corremos la prediccion para cada observacion y tenemos un arreglo de predicciones 'resx'"
   ]
  },
  {
   "cell_type": "code",
   "execution_count": 801,
   "metadata": {
    "collapsed": false
   },
   "outputs": [
    {
     "name": "stdout",
     "output_type": "stream",
     "text": [
      "CPU times: user 10 s, sys: 4 ms, total: 10 s\n",
      "Wall time: 10 s\n"
     ]
    }
   ],
   "source": [
    "%%time\n",
    "resx=np.zeros((len(dftest2),2))\n",
    "for i in range(len(dftest2)):\n",
    "    resx[i]=clasiflog(dftest2.iloc[i],m0,m1,s0,s1,ap)\n",
    "resx  "
   ]
  },
  {
   "cell_type": "markdown",
   "metadata": {},
   "source": [
    "**Matriz de confusion de nuestra funcion clasiflog**"
   ]
  },
  {
   "cell_type": "code",
   "execution_count": 802,
   "metadata": {
    "collapsed": false
   },
   "outputs": [
    {
     "data": {
      "text/plain": [
       "array([[592, 232],\n",
       "       [ 27, 530]])"
      ]
     },
     "execution_count": 802,
     "metadata": {},
     "output_type": "execute_result"
    }
   ],
   "source": [
    "confusion_matrix(dftest[57],resx[:,1])"
   ]
  },
  {
   "cell_type": "markdown",
   "metadata": {},
   "source": [
    "# Comprobacion con sklearn"
   ]
  },
  {
   "cell_type": "code",
   "execution_count": 798,
   "metadata": {
    "collapsed": false
   },
   "outputs": [
    {
     "name": "stdout",
     "output_type": "stream",
     "text": [
      "[[595 229]\n",
      " [ 23 534]]\n"
     ]
    }
   ],
   "source": [
    "X_train=np.array(dftrain.iloc[:,0:57])\n",
    "y_train=np.array(dftrain.iloc[:,57]) \n",
    "X_test=np.array(dftest.iloc[:,0:57])\n",
    "y_test=np.array(dftest.iloc[:,57])\n",
    "\n",
    "from sklearn.naive_bayes import GaussianNB\n",
    "NB=GaussianNB()\n",
    "NB.fit(X_train,y_train) \n",
    "pred=NB.predict(X_test) \n",
    "print(confusion_matrix(y_test,pred))"
   ]
  },
  {
   "cell_type": "code",
   "execution_count": null,
   "metadata": {
    "collapsed": false
   },
   "outputs": [],
   "source": []
  },
  {
   "cell_type": "code",
   "execution_count": null,
   "metadata": {
    "collapsed": false
   },
   "outputs": [],
   "source": []
  }
 ],
 "metadata": {
  "kernelspec": {
   "display_name": "Python 3",
   "language": "python",
   "name": "python3"
  },
  "language_info": {
   "codemirror_mode": {
    "name": "ipython",
    "version": 3
   },
   "file_extension": ".py",
   "mimetype": "text/x-python",
   "name": "python",
   "nbconvert_exporter": "python",
   "pygments_lexer": "ipython3",
   "version": "3.6.0"
  }
 },
 "nbformat": 4,
 "nbformat_minor": 2
}
