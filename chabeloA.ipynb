{
 "cells": [
  {
   "cell_type": "markdown",
   "metadata": {},
   "source": [
    "1.- 3 doors, 1 is the winning door, 1 chosen by the constestant\n",
    "\n",
    "2.-chabeloopens a door that is not the winnig door or the one chosen by the contstant \n",
    "\n",
    "3.-the contestant chooses whether to switch door or not \n",
    "\n",
    "create a siulation and compare the win rate if teh constestant switches or not"
   ]
  },
  {
   "cell_type": "code",
   "execution_count": 42,
   "metadata": {
    "collapsed": true
   },
   "outputs": [],
   "source": [
    "import numpy as np"
   ]
  },
  {
   "cell_type": "markdown",
   "metadata": {},
   "source": [
    "Generamos una ,matriz con 1's y ceros de tamaño nX3 de tal forma que $n$ es el número de experimentos y 3 son las puertas posibles llenamos cada columna aleatoriamente con un $1$ la puerta donde está el premio."
   ]
  },
  {
   "cell_type": "code",
   "execution_count": 51,
   "metadata": {
    "collapsed": false
   },
   "outputs": [],
   "source": [
    "def puertas(k):\n",
    "    puerta1=[]\n",
    "    for i in range(k):\n",
    "        al=np.random.rand() #generamos un número aleatorio para definir que dato poneos en la puerta1\n",
    "        if al>=.333:\n",
    "            puerta1.append(0)\n",
    "        else:\n",
    "            puerta1.append(1)\n",
    "    puerta2=np.zeros(len(puerta1)) #generamos un arreglo de  ceros para inicializar puerta 2 y 3\n",
    "    puerta3=np.zeros(len(puerta1))\n",
    "    \n",
    "    for i in range(k):\n",
    "        if puerta1[i]==0: #si puerta 1 no tiene el premio hacemos un random de 0s y 1s para simular si esta en p2\n",
    "            puerta2[i]=np.random.randint(0,2)\n",
    "        \n",
    "        if puerta1[i]+puerta2[i]==0:#si el premio no esta ni en la 1 ni la 2 debe estar en la 3\n",
    "            puerta3[i]=1\n",
    "            \n",
    "    return puerta1,puerta2,puerta3    "
   ]
  },
  {
   "cell_type": "code",
   "execution_count": 52,
   "metadata": {
    "collapsed": false
   },
   "outputs": [
    {
     "data": {
      "text/plain": [
       "([1, 0, 0, 0, 1, 0, 0, 0, 1, 0],\n",
       " array([ 0.,  0.,  0.,  0.,  0.,  1.,  1.,  0.,  0.,  0.]),\n",
       " array([ 0.,  1.,  1.,  1.,  0.,  0.,  0.,  1.,  0.,  1.]))"
      ]
     },
     "execution_count": 52,
     "metadata": {},
     "output_type": "execute_result"
    }
   ],
   "source": [
    "a,b,c=puertas(10)\n",
    "a,b,c\n",
    "#tenemos la matriz con todas las combinacones donde se encuenra el premio."
   ]
  },
  {
   "cell_type": "markdown",
   "metadata": {},
   "source": [
    "Hacemos una función donde simulamos cuando chabelo abra una puerta dado que la puerta que escogimos tiene  o no el premio."
   ]
  },
  {
   "cell_type": "code",
   "execution_count": 57,
   "metadata": {
    "collapsed": true
   },
   "outputs": [],
   "source": [
    "def chab(n):\n",
    "    u1,u2,u3=puertas(n) #posibles soluciones matriz de nx3\n",
    "    abrechab=np.zeros(len(u1)) #arreglo de tamaño n cada entrada es la puerta que abre chabelo\n",
    "    for i in range(len(u1)):\n",
    "        if u1[i]==0: #si el premio no está en la puerta 1 y la escogimos...\n",
    "            if u2[i]!=0: # si el premio esta en la puerta 2 chabelo va a abrir la 3!\n",
    "                abre=3\n",
    "            else: #si el premio no está en la 2 por tanto está en la 3 y chabelo va a abrir la 2! \n",
    "                abre=2 \n",
    "        else:\n",
    "            abre=np.random.randint(2,4) #si el premio esta en la puerta 1 y la escogimos chabelo abrirá \n",
    "            #cualquiera de las otras 2!\n",
    "        abrechab[i]=abre    \n",
    "        \n",
    "    cambiou=np.zeros(len(abrechab)) #inicializamos arreglo de decision que pasa si me quedo o cambio \n",
    "    for i in range(len(abrechab)):\n",
    "        if abrechab[i]==2: #si chabelo abrió la 2\n",
    "            cambiou[i]=u3[i]\n",
    "        else:\n",
    "            cambiou[i]=u2[i]\n",
    "    print('la proba de ganar si no cambia es:',np.mean(u1)) \n",
    "    print('la proba de ganar si cambia es:',np.mean(cambiou))     "
   ]
  },
  {
   "cell_type": "code",
   "execution_count": 58,
   "metadata": {
    "collapsed": false
   },
   "outputs": [
    {
     "name": "stdout",
     "output_type": "stream",
     "text": [
      "la proba de ganar si no cambia es: 0.335\n",
      "la proba de ganar si cambia es: 0.665\n"
     ]
    }
   ],
   "source": [
    "chab(1000)"
   ]
  },
  {
   "cell_type": "code",
   "execution_count": null,
   "metadata": {
    "collapsed": true
   },
   "outputs": [],
   "source": []
  }
 ],
 "metadata": {
  "kernelspec": {
   "display_name": "Python 3",
   "language": "python",
   "name": "python3"
  },
  "language_info": {
   "codemirror_mode": {
    "name": "ipython",
    "version": 3
   },
   "file_extension": ".py",
   "mimetype": "text/x-python",
   "name": "python",
   "nbconvert_exporter": "python",
   "pygments_lexer": "ipython3",
   "version": "3.6.0"
  }
 },
 "nbformat": 4,
 "nbformat_minor": 2
}
