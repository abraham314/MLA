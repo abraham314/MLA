{
 "cells": [
  {
   "cell_type": "code",
   "execution_count": 7,
   "metadata": {
    "collapsed": false
   },
   "outputs": [],
   "source": [
    "import pandas as pd\n",
    "import numpy as np\n",
    "import string\n",
    "from nltk.corpus import stopwords\n",
    "import nltk"
   ]
  },
  {
   "cell_type": "code",
   "execution_count": 8,
   "metadata": {
    "collapsed": false
   },
   "outputs": [],
   "source": [
    "d1='Trump believes Putin on Russia meddling, says Mueller may cost lives'\n",
    "\n",
    "d2='Tracking Trump: mood8 swings in Asia and election struggles at home'\n",
    "\n",
    "d3='As Trump fawns over Xi, global politics is now a ‘strong man’ game'\n",
    "\n",
    "d4='Trump has no comment on Roy Moore because he doesn’t ‘watch much TV’'\n",
    "\n",
    "d5='Japan anger over South Korea’s shrimp surprise for Donald Trump'\n",
    "\n",
    "d6='Ex- Trump aide Flynn investigated over plot to kidnap Turkish dissident – report'\n",
    "\n",
    "d7='Chinese media hails success of Trump’s ‘pilgrimage’ to Beijing'\n",
    "\n",
    "query='Trump attacks countries ‘cheating’ America at Apec summit'"
   ]
  },
  {
   "cell_type": "code",
   "execution_count": 9,
   "metadata": {
    "collapsed": false
   },
   "outputs": [
    {
     "data": {
      "text/plain": [
       "'!\"#$%&\\'()*+,-./:;<=>?@[\\\\]^_`{|}~'"
      ]
     },
     "execution_count": 9,
     "metadata": {},
     "output_type": "execute_result"
    }
   ],
   "source": [
    "string.punctuation"
   ]
  },
  {
   "cell_type": "code",
   "execution_count": 10,
   "metadata": {
    "collapsed": true
   },
   "outputs": [],
   "source": [
    "def eliminate_punctuation(d):\n",
    "    nopunc=[c for c in d if c not in string.punctuation]\n",
    "    nopunc=''.join(nopunc)\n",
    "    return(nopunc)"
   ]
  },
  {
   "cell_type": "code",
   "execution_count": 11,
   "metadata": {
    "collapsed": false
   },
   "outputs": [
    {
     "data": {
      "text/plain": [
       "'Tracking Trump mood8 swings in Asia and election struggles at home'"
      ]
     },
     "execution_count": 11,
     "metadata": {},
     "output_type": "execute_result"
    }
   ],
   "source": [
    "eliminate_punctuation(d2)"
   ]
  },
  {
   "cell_type": "code",
   "execution_count": 12,
   "metadata": {
    "collapsed": true
   },
   "outputs": [],
   "source": [
    "def eliminate_numbers(d):\n",
    "    nums='0123456789'\n",
    "    nonum=[c for c in d if c not in nums]\n",
    "    nonum=''.join(nonum)\n",
    "    return(nonum)"
   ]
  },
  {
   "cell_type": "code",
   "execution_count": 13,
   "metadata": {
    "collapsed": false
   },
   "outputs": [
    {
     "data": {
      "text/plain": [
       "'Tracking Trump: mood swings in Asia and election struggles at home'"
      ]
     },
     "execution_count": 13,
     "metadata": {},
     "output_type": "execute_result"
    }
   ],
   "source": [
    "eliminate_numbers(d2)"
   ]
  },
  {
   "cell_type": "code",
   "execution_count": 14,
   "metadata": {
    "collapsed": true
   },
   "outputs": [],
   "source": [
    "def to_lower(d):\n",
    "    d.lower()\n",
    "    return(d.lower())"
   ]
  },
  {
   "cell_type": "code",
   "execution_count": 15,
   "metadata": {
    "collapsed": false
   },
   "outputs": [
    {
     "data": {
      "text/plain": [
       "'trump believes putin on russia meddling, says mueller may cost lives'"
      ]
     },
     "execution_count": 15,
     "metadata": {},
     "output_type": "execute_result"
    }
   ],
   "source": [
    "to_lower(d1)"
   ]
  },
  {
   "cell_type": "code",
   "execution_count": 16,
   "metadata": {
    "collapsed": false
   },
   "outputs": [
    {
     "data": {
      "text/plain": [
       "'tracking trump mood swings in asia and election struggles at home'"
      ]
     },
     "execution_count": 16,
     "metadata": {},
     "output_type": "execute_result"
    }
   ],
   "source": [
    "vword=eliminate_punctuation(d2)\n",
    "vword=eliminate_numbers(vword)\n",
    "vword=to_lower(vword)\n",
    "vword"
   ]
  },
  {
   "cell_type": "code",
   "execution_count": 17,
   "metadata": {
    "collapsed": false
   },
   "outputs": [
    {
     "data": {
      "text/plain": [
       "['tracking',\n",
       " 'trump',\n",
       " 'mood',\n",
       " 'swings',\n",
       " 'in',\n",
       " 'asia',\n",
       " 'and',\n",
       " 'election',\n",
       " 'struggles',\n",
       " 'at',\n",
       " 'home']"
      ]
     },
     "execution_count": 17,
     "metadata": {},
     "output_type": "execute_result"
    }
   ],
   "source": [
    "vword.split()"
   ]
  },
  {
   "cell_type": "code",
   "execution_count": 18,
   "metadata": {
    "collapsed": true
   },
   "outputs": [],
   "source": [
    "def eliminate_stop_words(d):\n",
    "    vw=d.split()\n",
    "    clean_mess=[word for word in vw if word.lower() not in stopwords.words('english')]\n",
    "    return(clean_mess)"
   ]
  },
  {
   "cell_type": "code",
   "execution_count": 29,
   "metadata": {
    "collapsed": false
   },
   "outputs": [
    {
     "name": "stdout",
     "output_type": "stream",
     "text": [
      "NLTK Downloader\n",
      "---------------------------------------------------------------------------\n",
      "    d) Download   l) List    u) Update   c) Config   h) Help   q) Quit\n",
      "---------------------------------------------------------------------------\n",
      "Downloader> d\n",
      "\n",
      "Download which package (l=list; x=cancel)?\n",
      "  Identifier> wordnet\n",
      "    Downloading package wordnet to /home/abraham/nltk_data...\n",
      "      Unzipping corpora/wordnet.zip.\n",
      "\n",
      "---------------------------------------------------------------------------\n",
      "    d) Download   l) List    u) Update   c) Config   h) Help   q) Quit\n",
      "---------------------------------------------------------------------------\n",
      "Downloader> q\n"
     ]
    }
   ],
   "source": [
    "nltk.download_shell()"
   ]
  },
  {
   "cell_type": "code",
   "execution_count": 25,
   "metadata": {
    "collapsed": false
   },
   "outputs": [
    {
     "data": {
      "text/plain": [
       "['tracking',\n",
       " 'trump',\n",
       " 'mood',\n",
       " 'swings',\n",
       " 'asia',\n",
       " 'election',\n",
       " 'struggles',\n",
       " 'home']"
      ]
     },
     "execution_count": 25,
     "metadata": {},
     "output_type": "execute_result"
    }
   ],
   "source": [
    "ll=eliminate_stop_words(vword)\n",
    "ll"
   ]
  },
  {
   "cell_type": "code",
   "execution_count": 32,
   "metadata": {
    "collapsed": false
   },
   "outputs": [
    {
     "data": {
      "text/plain": [
       "['track', 'trump', 'mood', 'swing', 'asia', 'elect', 'struggl', 'home']"
      ]
     },
     "execution_count": 32,
     "metadata": {},
     "output_type": "execute_result"
    }
   ],
   "source": [
    "from nltk.stem.porter import PorterStemmer\n",
    "def stemming(d):\n",
    "    porter_stemmer = PorterStemmer()\n",
    "    lw=[]\n",
    "    for v in d:\n",
    "        al=porter_stemmer.stem(v)\n",
    "        lw.append(al)\n",
    "    return(lw)\n",
    "stemming(ll)"
   ]
  },
  {
   "cell_type": "code",
   "execution_count": 33,
   "metadata": {
    "collapsed": false
   },
   "outputs": [
    {
     "data": {
      "text/plain": [
       "['track', 'trump', 'mood', 'swing', 'asia', 'elect', 'struggl', 'home']"
      ]
     },
     "execution_count": 33,
     "metadata": {},
     "output_type": "execute_result"
    }
   ],
   "source": [
    "from nltk.stem import WordNetLemmatizer\n",
    "def lemmatization(d):\n",
    "    wordnet_lemmatizer = WordNetLemmatizer()\n",
    "    lwl=[]\n",
    "    for v in d:\n",
    "        al=wordnet_lemmatizer.lemmatize(v)\n",
    "        lwl.append(al)\n",
    "    return(lwl) \n",
    "lemmatization(lw)"
   ]
  },
  {
   "cell_type": "code",
   "execution_count": 34,
   "metadata": {
    "collapsed": true
   },
   "outputs": [],
   "source": [
    "def bag_words(d):\n",
    "    sal=eliminate_punctuation(d)\n",
    "    sal=eliminate_numbers(sal)\n",
    "    sal=to_lower(sal)\n",
    "    sal=eliminate_stop_words(sal)\n",
    "    sal=stemming(sal)\n",
    "    sal=lemmatization(sal)\n",
    "    return(sal)"
   ]
  },
  {
   "cell_type": "code",
   "execution_count": 36,
   "metadata": {
    "collapsed": false
   },
   "outputs": [],
   "source": [
    "lista=bag_words(d2)"
   ]
  },
  {
   "cell_type": "code",
   "execution_count": 50,
   "metadata": {
    "collapsed": false
   },
   "outputs": [],
   "source": [
    "#lista de palabras\n",
    "docs=np.array([d1,d2,d3,d4,d5,d6,d7])\n",
    "docums=pd.DataFrame(docs,columns=['documentos'])"
   ]
  },
  {
   "cell_type": "code",
   "execution_count": 52,
   "metadata": {
    "collapsed": false
   },
   "outputs": [],
   "source": [
    "l=[]\n",
    "for d in docums['documentos']:\n",
    "    l.append(bag_words(d))"
   ]
  },
  {
   "cell_type": "code",
   "execution_count": 53,
   "metadata": {
    "collapsed": false
   },
   "outputs": [
    {
     "data": {
      "text/plain": [
       "[['trump',\n",
       "  'believ',\n",
       "  'putin',\n",
       "  'russia',\n",
       "  'meddl',\n",
       "  'say',\n",
       "  'mueller',\n",
       "  'may',\n",
       "  'cost',\n",
       "  'live'],\n",
       " ['track', 'trump', 'mood', 'swing', 'asia', 'elect', 'struggl', 'home'],\n",
       " ['trump', 'fawn', 'xi', 'global', 'polit', '‘strong', 'man’', 'game'],\n",
       " ['trump', 'comment', 'roy', 'moor', 'doesn’t', '‘watch', 'much', 'tv’'],\n",
       " ['japan', 'anger', 'south', 'korea’', 'shrimp', 'surpris', 'donald', 'trump'],\n",
       " ['ex',\n",
       "  'trump',\n",
       "  'aid',\n",
       "  'flynn',\n",
       "  'investig',\n",
       "  'plot',\n",
       "  'kidnap',\n",
       "  'turkish',\n",
       "  'dissid',\n",
       "  '–',\n",
       "  'report'],\n",
       " ['chine', 'medium', 'hail', 'success', 'trump’', '‘pilgrimage’', 'beij']]"
      ]
     },
     "execution_count": 53,
     "metadata": {},
     "output_type": "execute_result"
    }
   ],
   "source": [
    "l"
   ]
  },
  {
   "cell_type": "code",
   "execution_count": null,
   "metadata": {
    "collapsed": true
   },
   "outputs": [],
   "source": []
  }
 ],
 "metadata": {
  "kernelspec": {
   "display_name": "Python 3",
   "language": "python",
   "name": "python3"
  },
  "language_info": {
   "codemirror_mode": {
    "name": "ipython",
    "version": 3
   },
   "file_extension": ".py",
   "mimetype": "text/x-python",
   "name": "python",
   "nbconvert_exporter": "python",
   "pygments_lexer": "ipython3",
   "version": "3.6.0"
  }
 },
 "nbformat": 4,
 "nbformat_minor": 2
}
