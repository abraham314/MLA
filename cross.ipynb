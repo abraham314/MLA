{
 "cells": [
  {
   "cell_type": "code",
   "execution_count": 2,
   "metadata": {
    "collapsed": false
   },
   "outputs": [],
   "source": [
    "import numpy as np\n",
    "import pandas as pd\n",
    "import random as rnd\n",
    "from sklearn.cross_validation import train_test_split\n",
    "from sklearn.metrics import confusion_matrix\n",
    "from sklearn import linear_model\n",
    "from scipy.stats import *\n",
    "from sklearn import preprocessing \n",
    "import matplotlib.pyplot as plt \n",
    "%matplotlib inline \n",
    "import random as rnd"
   ]
  },
  {
   "cell_type": "code",
   "execution_count": 3,
   "metadata": {
    "collapsed": false
   },
   "outputs": [
    {
     "data": {
      "text/html": [
       "<div>\n",
       "<table border=\"1\" class=\"dataframe\">\n",
       "  <thead>\n",
       "    <tr style=\"text-align: right;\">\n",
       "      <th></th>\n",
       "      <th>X1</th>\n",
       "      <th>X2</th>\n",
       "      <th>X3</th>\n",
       "      <th>X4</th>\n",
       "      <th>X5</th>\n",
       "      <th>X6</th>\n",
       "      <th>X7</th>\n",
       "      <th>X8</th>\n",
       "      <th>X9</th>\n",
       "      <th>X10</th>\n",
       "      <th>...</th>\n",
       "      <th>X30</th>\n",
       "      <th>X31</th>\n",
       "      <th>X32</th>\n",
       "      <th>X33</th>\n",
       "      <th>X34</th>\n",
       "      <th>X35</th>\n",
       "      <th>X36</th>\n",
       "      <th>X37</th>\n",
       "      <th>X38</th>\n",
       "      <th>y</th>\n",
       "    </tr>\n",
       "  </thead>\n",
       "  <tbody>\n",
       "    <tr>\n",
       "      <th>0</th>\n",
       "      <td>153.782162</td>\n",
       "      <td>23648.953370</td>\n",
       "      <td>2.186906</td>\n",
       "      <td>0.155247</td>\n",
       "      <td>16</td>\n",
       "      <td>-153.782162</td>\n",
       "      <td>-23648.95337</td>\n",
       "      <td>-2.186906</td>\n",
       "      <td>-0.155247</td>\n",
       "      <td>-909.534012</td>\n",
       "      <td>...</td>\n",
       "      <td>272</td>\n",
       "      <td>-1856</td>\n",
       "      <td>1390</td>\n",
       "      <td>-4293</td>\n",
       "      <td>4171</td>\n",
       "      <td>-3493</td>\n",
       "      <td>-290</td>\n",
       "      <td>-1017</td>\n",
       "      <td>9</td>\n",
       "      <td>2.033960e+15</td>\n",
       "    </tr>\n",
       "    <tr>\n",
       "      <th>1</th>\n",
       "      <td>645.991251</td>\n",
       "      <td>417304.697100</td>\n",
       "      <td>2.810227</td>\n",
       "      <td>-0.923396</td>\n",
       "      <td>35</td>\n",
       "      <td>-153.782162</td>\n",
       "      <td>-23648.95337</td>\n",
       "      <td>-2.810227</td>\n",
       "      <td>0.923396</td>\n",
       "      <td>343.752475</td>\n",
       "      <td>...</td>\n",
       "      <td>-265</td>\n",
       "      <td>-3587</td>\n",
       "      <td>-2479</td>\n",
       "      <td>-1284</td>\n",
       "      <td>-2127</td>\n",
       "      <td>2369</td>\n",
       "      <td>2657</td>\n",
       "      <td>-1481</td>\n",
       "      <td>-150</td>\n",
       "      <td>4.694470e+19</td>\n",
       "    </tr>\n",
       "    <tr>\n",
       "      <th>2</th>\n",
       "      <td>-412.060457</td>\n",
       "      <td>169793.820200</td>\n",
       "      <td>2.614961</td>\n",
       "      <td>0.489764</td>\n",
       "      <td>-25</td>\n",
       "      <td>-153.782162</td>\n",
       "      <td>-23648.95337</td>\n",
       "      <td>-2.614961</td>\n",
       "      <td>-0.489764</td>\n",
       "      <td>-776.331121</td>\n",
       "      <td>...</td>\n",
       "      <td>9</td>\n",
       "      <td>4104</td>\n",
       "      <td>-4634</td>\n",
       "      <td>-1637</td>\n",
       "      <td>-4228</td>\n",
       "      <td>527</td>\n",
       "      <td>-1773</td>\n",
       "      <td>-1676</td>\n",
       "      <td>67</td>\n",
       "      <td>-2.017100e+18</td>\n",
       "    </tr>\n",
       "    <tr>\n",
       "      <th>3</th>\n",
       "      <td>35.884351</td>\n",
       "      <td>1287.686648</td>\n",
       "      <td>1.554905</td>\n",
       "      <td>-0.970388</td>\n",
       "      <td>-75</td>\n",
       "      <td>-153.782162</td>\n",
       "      <td>-23648.95337</td>\n",
       "      <td>-1.554905</td>\n",
       "      <td>0.970388</td>\n",
       "      <td>696.736200</td>\n",
       "      <td>...</td>\n",
       "      <td>-215</td>\n",
       "      <td>749</td>\n",
       "      <td>-3645</td>\n",
       "      <td>-3202</td>\n",
       "      <td>-1173</td>\n",
       "      <td>-3248</td>\n",
       "      <td>1888</td>\n",
       "      <td>1295</td>\n",
       "      <td>-49</td>\n",
       "      <td>7.629161e+10</td>\n",
       "    </tr>\n",
       "    <tr>\n",
       "      <th>4</th>\n",
       "      <td>-85.073496</td>\n",
       "      <td>7237.499779</td>\n",
       "      <td>1.929794</td>\n",
       "      <td>0.247883</td>\n",
       "      <td>44</td>\n",
       "      <td>-153.782162</td>\n",
       "      <td>-23648.95337</td>\n",
       "      <td>-1.929794</td>\n",
       "      <td>-0.247883</td>\n",
       "      <td>-527.805076</td>\n",
       "      <td>...</td>\n",
       "      <td>-360</td>\n",
       "      <td>2150</td>\n",
       "      <td>507</td>\n",
       "      <td>-1972</td>\n",
       "      <td>-7497</td>\n",
       "      <td>-2427</td>\n",
       "      <td>4368</td>\n",
       "      <td>670</td>\n",
       "      <td>43</td>\n",
       "      <td>-3.225260e+13</td>\n",
       "    </tr>\n",
       "  </tbody>\n",
       "</table>\n",
       "<p>5 rows × 39 columns</p>\n",
       "</div>"
      ],
      "text/plain": [
       "           X1             X2        X3        X4  X5          X6           X7  \\\n",
       "0  153.782162   23648.953370  2.186906  0.155247  16 -153.782162 -23648.95337   \n",
       "1  645.991251  417304.697100  2.810227 -0.923396  35 -153.782162 -23648.95337   \n",
       "2 -412.060457  169793.820200  2.614961  0.489764 -25 -153.782162 -23648.95337   \n",
       "3   35.884351    1287.686648  1.554905 -0.970388 -75 -153.782162 -23648.95337   \n",
       "4  -85.073496    7237.499779  1.929794  0.247883  44 -153.782162 -23648.95337   \n",
       "\n",
       "         X8        X9         X10      ...       X30   X31   X32   X33   X34  \\\n",
       "0 -2.186906 -0.155247 -909.534012      ...       272 -1856  1390 -4293  4171   \n",
       "1 -2.810227  0.923396  343.752475      ...      -265 -3587 -2479 -1284 -2127   \n",
       "2 -2.614961 -0.489764 -776.331121      ...         9  4104 -4634 -1637 -4228   \n",
       "3 -1.554905  0.970388  696.736200      ...      -215   749 -3645 -3202 -1173   \n",
       "4 -1.929794 -0.247883 -527.805076      ...      -360  2150   507 -1972 -7497   \n",
       "\n",
       "    X35   X36   X37  X38             y  \n",
       "0 -3493  -290 -1017    9  2.033960e+15  \n",
       "1  2369  2657 -1481 -150  4.694470e+19  \n",
       "2   527 -1773 -1676   67 -2.017100e+18  \n",
       "3 -3248  1888  1295  -49  7.629161e+10  \n",
       "4 -2427  4368   670   43 -3.225260e+13  \n",
       "\n",
       "[5 rows x 39 columns]"
      ]
     },
     "execution_count": 3,
     "metadata": {},
     "output_type": "execute_result"
    }
   ],
   "source": [
    "df=pd.read_csv('regLinPoli2.csv')\n",
    "df.head()"
   ]
  },
  {
   "cell_type": "markdown",
   "metadata": {},
   "source": [
    "**Partimos el dataframe en arrays**"
   ]
  },
  {
   "cell_type": "code",
   "execution_count": 4,
   "metadata": {
    "collapsed": true
   },
   "outputs": [],
   "source": [
    "X=np.array(df.iloc[:,0:38]) \n",
    "y=np.array(df.iloc[:,38])"
   ]
  },
  {
   "cell_type": "code",
   "execution_count": 5,
   "metadata": {
    "collapsed": false
   },
   "outputs": [
    {
     "data": {
      "text/plain": [
       "1029"
      ]
     },
     "execution_count": 5,
     "metadata": {},
     "output_type": "execute_result"
    }
   ],
   "source": [
    "len(df)"
   ]
  },
  {
   "cell_type": "markdown",
   "metadata": {
    "collapsed": false
   },
   "source": [
    "**Hacemos la función que particiona los índices del dataframe en k particiones**"
   ]
  },
  {
   "cell_type": "code",
   "execution_count": 6,
   "metadata": {
    "collapsed": false
   },
   "outputs": [],
   "source": [
    "def particion(base,X,k):\n",
    "    selec=[]\n",
    "    n=(np.floor(np.round(len(X)/k))).astype(int)\n",
    "    w=list(base.index.values)\n",
    "    for i in range(k):\n",
    "        if len(w)>=n:\n",
    "            samp=list((rnd.sample(w,n)))\n",
    "            selec=selec+[samp]\n",
    "            w=[x for x in w if x not in samp]\n",
    "        else:\n",
    "            samp=list((rnd.sample(w,len(w))))\n",
    "            selec=selec+[samp]\n",
    "    return(selec)"
   ]
  },
  {
   "cell_type": "markdown",
   "metadata": {
    "collapsed": false
   },
   "source": [
    "**Función que selecciona la partición con la que se va a validar y entrenar**"
   ]
  },
  {
   "cell_type": "code",
   "execution_count": 7,
   "metadata": {
    "collapsed": true
   },
   "outputs": [],
   "source": [
    "def crossval(X,a,sel):\n",
    "    train=[x for x in a if x not in sel]\n",
    "    valid=[x for x in a if x in sel]\n",
    "    return train,valid"
   ]
  },
  {
   "cell_type": "markdown",
   "metadata": {
    "collapsed": false
   },
   "source": [
    "**función de regularización**"
   ]
  },
  {
   "cell_type": "code",
   "execution_count": 8,
   "metadata": {
    "collapsed": false
   },
   "outputs": [],
   "source": [
    "def salida(w0,w,X):\n",
    "    suma = w0\n",
    "    for i in range(len(w)):\n",
    "        suma = suma + w[i]*X[i]\n",
    "    return suma"
   ]
  },
  {
   "cell_type": "code",
   "execution_count": 9,
   "metadata": {
    "collapsed": true
   },
   "outputs": [],
   "source": [
    "def regularizado(w,x,y,lam,eta):\n",
    "\n",
    "    for i in range(len(x)):\n",
    "\n",
    "        sal = salida(w[0],w[1:len(w)],x[i])\n",
    "        #Calculo el error de prediccion        \n",
    "        error =y[i] - sal\n",
    "        # Obtengo el error w0\n",
    "        w[0] = w[0] + eta*error\n",
    "        \n",
    "    \n",
    "        for j in range(len(x.T)):\n",
    "            w[j+1] = w[j+1] + eta*error*x[i,j] - lam*w[j+1]\n",
    "        \n",
    "    return w"
   ]
  },
  {
   "cell_type": "markdown",
   "metadata": {
    "collapsed": false
   },
   "source": [
    "**Función cross-validation**"
   ]
  },
  {
   "cell_type": "code",
   "execution_count": 10,
   "metadata": {
    "collapsed": false
   },
   "outputs": [],
   "source": [
    "def cross_reg(a,X,k):\n",
    "    errprom=np.array([]) \n",
    "    lamb=np.arange(-0.002,.015,0.001)\n",
    "    for i in lamb:\n",
    "        errmin=[]\n",
    "        selec=particion(a,X,k)\n",
    "        for j in range(len(selec)):\n",
    "            train,test=crossval(X,list(a.index.values),selec[j])\n",
    "            X_train=X[train]\n",
    "            y_train=y[train]\n",
    "            X_test=X[test]\n",
    "            y_test=y[test]\n",
    "        \n",
    "            scalerx = preprocessing.StandardScaler().fit(X_train)\n",
    "            X_train=scalerx.transform(X_train)\n",
    "            X_test=scalerx.transform(X_test)\n",
    "        \n",
    "            m=np.mean(y_train)\n",
    "            sd=np.std(y_train)\n",
    "            y_train=(y_train-m)/sd\n",
    "            y_test=(y_test-m)/sd\n",
    "        \n",
    "            w=[rnd.random() for i in range(X_train.shape[1]+1)]\n",
    "        \n",
    "            w=regularizado(w,X_train,y_train,i,0.01)\n",
    "            errt=np.mean((y_train - (w[0]+ np.dot(X_train,w[1:len(w)])))**2)\n",
    "            errmin=errmin+[errt]\n",
    "        errprom=np.append(errprom,np.mean(np.array(errmin)))\n",
    "        minlam=lamb[np.where(abs(np.array(errprom))==min(abs(np.array(errprom))))]\n",
    "        \n",
    "    return(errprom,lamb,minlam)     "
   ]
  },
  {
   "cell_type": "code",
   "execution_count": 23,
   "metadata": {
    "collapsed": false
   },
   "outputs": [
    {
     "name": "stdout",
     "output_type": "stream",
     "text": [
      "la mejor lambda es: [ 0.001]\n"
     ]
    },
    {
     "data": {
      "image/png": "[encoded data removed]",
      "text/plain": [
       "<matplotlib.figure.Figure at 0x7f30babcdd68>"
      ]
     },
     "metadata": {},
     "output_type": "display_data"
    }
   ],
   "source": [
    "errprom,lamb,minlam=cross_reg(df,X,10) \n",
    "plt.xlim(-.003, .016)\n",
    "plt.scatter(lamb,errprom)\n",
    "plt.plot(minlam,min(abs(np.array(errprom))),'p-',color='red',ms=9)\n",
    "plt.title('lambdas vs. Errores')\n",
    "print('la mejor lambda es:',minlam)"
   ]
  },
  {
   "cell_type": "code",
   "execution_count": 18,
   "metadata": {
    "collapsed": false
   },
   "outputs": [],
   "source": [
    "#lmb=np.array([])\n",
    "a=df\n",
    "k=10\n",
    "errprom=np.array([]) \n",
    "lamb=np.arange(-0.002,.015,0.001)\n",
    "for i in lamb:\n",
    "    errmin=[]\n",
    "    selec=particion(a,X,k)\n",
    "    for j in range(len(selec)):\n",
    "        train,test=crossval(X,list(a.index.values),selec[j])\n",
    "        X_train=X[train]\n",
    "        y_train=y[train]\n",
    "        X_test=X[test]\n",
    "        y_test=y[test]\n",
    "        \n",
    "        scalerx = preprocessing.StandardScaler().fit(X_train)\n",
    "        X_train=scalerx.transform(X_train)\n",
    "        X_test=scalerx.transform(X_test)\n",
    "        \n",
    "        m=np.mean(y_train)\n",
    "        sd=np.std(y_train)\n",
    "        y_train=(y_train-m)/sd\n",
    "        y_test=(y_test-m)/sd\n",
    "        \n",
    "        w=[rnd.random() for i in range(X_train.shape[1]+1)]\n",
    "        \n",
    "        w=regularizado(w,X_train,y_train,i,0.01)\n",
    "        errt=np.mean((y_train - (w[0]+ np.dot(X_train,w[1:len(w)])))**2)\n",
    "        errmin=errmin+[errt]\n",
    "    errprom=np.append(errprom,np.mean(np.array(errmin)))\n",
    "    minlam=lamb[np.where(abs(np.array(errprom))==min(abs(np.array(errprom))))]\n",
    "    "
   ]
  },
  {
   "cell_type": "code",
   "execution_count": 19,
   "metadata": {
    "collapsed": false
   },
   "outputs": [
    {
     "data": {
      "text/plain": [
       "[<matplotlib.lines.Line2D at 0x7f30bab84b38>]"
      ]
     },
     "execution_count": 19,
     "metadata": {},
     "output_type": "execute_result"
    },
    {
     "data": {
      "image/png": "[encoded data removed]",
      "text/plain": [
       "<matplotlib.figure.Figure at 0x7f30babb7160>"
      ]
     },
     "metadata": {},
     "output_type": "display_data"
    }
   ],
   "source": [
    "plt.xlim(-.003, .016)\n",
    "plt.scatter(lamb,errprom)\n",
    "plt.plot(minlam,min(abs(np.array(errprom))),'p-',color='red',ms=9)"
   ]
  },
  {
   "cell_type": "code",
   "execution_count": 20,
   "metadata": {
    "collapsed": false
   },
   "outputs": [
    {
     "data": {
      "text/plain": [
       "array([ 0.63531686,  0.57460143,  0.5490911 ,  0.53756927,  0.54033709,\n",
       "        0.54607811,  0.55413888,  0.56573925,  0.57807853,  0.58945014,\n",
       "        0.60058203,  0.6136526 ,  0.62407195,  0.63598859,  0.64620612,\n",
       "        0.65907817,  0.66573006])"
      ]
     },
     "execution_count": 20,
     "metadata": {},
     "output_type": "execute_result"
    }
   ],
   "source": [
    "errprom"
   ]
  },
  {
   "cell_type": "code",
   "execution_count": 21,
   "metadata": {
    "collapsed": false
   },
   "outputs": [
    {
     "data": {
      "text/plain": [
       "array([ 0.001])"
      ]
     },
     "execution_count": 21,
     "metadata": {},
     "output_type": "execute_result"
    }
   ],
   "source": [
    " minlam"
   ]
  },
  {
   "cell_type": "code",
   "execution_count": null,
   "metadata": {
    "collapsed": false
   },
   "outputs": [],
   "source": []
  },
  {
   "cell_type": "code",
   "execution_count": null,
   "metadata": {
    "collapsed": true
   },
   "outputs": [],
   "source": []
  }
 ],
 "metadata": {
  "kernelspec": {
   "display_name": "Python 3",
   "language": "python",
   "name": "python3"
  },
  "language_info": {
   "codemirror_mode": {
    "name": "ipython",
    "version": 3
   },
   "file_extension": ".py",
   "mimetype": "text/x-python",
   "name": "python",
   "nbconvert_exporter": "python",
   "pygments_lexer": "ipython3",
   "version": "3.6.0"
  }
 },
 "nbformat": 4,
 "nbformat_minor": 2
}
