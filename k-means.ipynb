{
 "cells": [
  {
   "cell_type": "code",
   "execution_count": 32,
   "metadata": {
    "collapsed": false
   },
   "outputs": [],
   "source": [
    "import pandas as pd\n",
    "import numpy as np \n",
    "import matplotlib.pyplot as plt \n",
    "import seaborn as sns\n",
    "%matplotlib inline \n",
    "from sklearn.cross_validation import train_test_split\n",
    "from sklearn import preprocessing\n",
    "from random import random,randint,seed,sample \n",
    "from sklearn.preprocessing import StandardScaler\n",
    "import random as rn\n",
    "from sklearn.tree import DecisionTreeClassifier\n",
    "from sklearn.ensemble import AdaBoostClassifier, RandomForestClassifier\n",
    "from sklearn.cluster import KMeans\n",
    "from sklearn import tree \n",
    "from sklearn.linear_model import LogisticRegression "
   ]
  },
  {
   "cell_type": "code",
   "execution_count": 8,
   "metadata": {
    "collapsed": false
   },
   "outputs": [
    {
     "data": {
      "text/html": [
       "<div>\n",
       "<table border=\"1\" class=\"dataframe\">\n",
       "  <thead>\n",
       "    <tr style=\"text-align: right;\">\n",
       "      <th></th>\n",
       "      <th>Sex</th>\n",
       "      <th>Length</th>\n",
       "      <th>Diameter</th>\n",
       "      <th>Height</th>\n",
       "      <th>Whole_weight</th>\n",
       "      <th>Shucked_weight</th>\n",
       "      <th>Viscera_weight</th>\n",
       "      <th>Shell_weight</th>\n",
       "      <th>Rings</th>\n",
       "    </tr>\n",
       "  </thead>\n",
       "  <tbody>\n",
       "    <tr>\n",
       "      <th>0</th>\n",
       "      <td>M</td>\n",
       "      <td>0.455</td>\n",
       "      <td>0.365</td>\n",
       "      <td>0.095</td>\n",
       "      <td>0.5140</td>\n",
       "      <td>0.2245</td>\n",
       "      <td>0.1010</td>\n",
       "      <td>0.150</td>\n",
       "      <td>15</td>\n",
       "    </tr>\n",
       "    <tr>\n",
       "      <th>1</th>\n",
       "      <td>M</td>\n",
       "      <td>0.350</td>\n",
       "      <td>0.265</td>\n",
       "      <td>0.090</td>\n",
       "      <td>0.2255</td>\n",
       "      <td>0.0995</td>\n",
       "      <td>0.0485</td>\n",
       "      <td>0.070</td>\n",
       "      <td>7</td>\n",
       "    </tr>\n",
       "    <tr>\n",
       "      <th>2</th>\n",
       "      <td>F</td>\n",
       "      <td>0.530</td>\n",
       "      <td>0.420</td>\n",
       "      <td>0.135</td>\n",
       "      <td>0.6770</td>\n",
       "      <td>0.2565</td>\n",
       "      <td>0.1415</td>\n",
       "      <td>0.210</td>\n",
       "      <td>9</td>\n",
       "    </tr>\n",
       "    <tr>\n",
       "      <th>3</th>\n",
       "      <td>M</td>\n",
       "      <td>0.440</td>\n",
       "      <td>0.365</td>\n",
       "      <td>0.125</td>\n",
       "      <td>0.5160</td>\n",
       "      <td>0.2155</td>\n",
       "      <td>0.1140</td>\n",
       "      <td>0.155</td>\n",
       "      <td>10</td>\n",
       "    </tr>\n",
       "    <tr>\n",
       "      <th>4</th>\n",
       "      <td>I</td>\n",
       "      <td>0.330</td>\n",
       "      <td>0.255</td>\n",
       "      <td>0.080</td>\n",
       "      <td>0.2050</td>\n",
       "      <td>0.0895</td>\n",
       "      <td>0.0395</td>\n",
       "      <td>0.055</td>\n",
       "      <td>7</td>\n",
       "    </tr>\n",
       "  </tbody>\n",
       "</table>\n",
       "</div>"
      ],
      "text/plain": [
       "  Sex  Length  Diameter  Height  Whole_weight  Shucked_weight  Viscera_weight  \\\n",
       "0   M   0.455     0.365   0.095        0.5140          0.2245          0.1010   \n",
       "1   M   0.350     0.265   0.090        0.2255          0.0995          0.0485   \n",
       "2   F   0.530     0.420   0.135        0.6770          0.2565          0.1415   \n",
       "3   M   0.440     0.365   0.125        0.5160          0.2155          0.1140   \n",
       "4   I   0.330     0.255   0.080        0.2050          0.0895          0.0395   \n",
       "\n",
       "   Shell_weight  Rings  \n",
       "0         0.150     15  \n",
       "1         0.070      7  \n",
       "2         0.210      9  \n",
       "3         0.155     10  \n",
       "4         0.055      7  "
      ]
     },
     "execution_count": 8,
     "metadata": {},
     "output_type": "execute_result"
    }
   ],
   "source": [
    "ab=pd.read_csv('/home/abraham/ML-ITAM/Den/Machine_Learning/abalone.csv')\n",
    "ab.head()"
   ]
  },
  {
   "cell_type": "code",
   "execution_count": 91,
   "metadata": {
    "collapsed": false
   },
   "outputs": [
    {
     "data": {
      "text/plain": [
       "['Sex',\n",
       " 'Length',\n",
       " 'Diameter',\n",
       " 'Height',\n",
       " 'Whole_weight',\n",
       " 'Shucked_weight',\n",
       " 'Viscera_weight',\n",
       " 'Shell_weight',\n",
       " 'Rings']"
      ]
     },
     "execution_count": 91,
     "metadata": {},
     "output_type": "execute_result"
    }
   ],
   "source": [
    "list(ab)"
   ]
  },
  {
   "cell_type": "code",
   "execution_count": 86,
   "metadata": {
    "collapsed": false
   },
   "outputs": [],
   "source": [
    "X=np.array(ab.iloc[:,1:9])\n",
    "y=np.array(ab.iloc[:,0])\n",
    "X_train,X_test,y_train,y_test=train_test_split(X,y,test_size=0.2,random_state=6)"
   ]
  },
  {
   "cell_type": "code",
   "execution_count": 87,
   "metadata": {
    "collapsed": false
   },
   "outputs": [],
   "source": [
    "scalerx = preprocessing.StandardScaler().fit(X_train)\n",
    "X_train=scalerx.transform(X_train)\n",
    "X_test=scalerx.transform(X_test)"
   ]
  },
  {
   "cell_type": "code",
   "execution_count": 88,
   "metadata": {
    "collapsed": false
   },
   "outputs": [
    {
     "name": "stdout",
     "output_type": "stream",
     "text": [
      "             precision    recall  f1-score   support\n",
      "\n",
      "          F       0.50      0.26      0.34       269\n",
      "          I       0.60      0.81      0.69       254\n",
      "          M       0.46      0.53      0.50       313\n",
      "\n",
      "avg / total       0.52      0.53      0.51       836\n",
      "\n",
      "[[ 69  51 149]\n",
      " [  6 206  42]\n",
      " [ 63  84 166]]\n"
     ]
    }
   ],
   "source": [
    "rl=LogisticRegression(C=0.01,penalty='l2')\n",
    "rl.fit(X_train,y_train)\n",
    "pred=rl.predict(X_test) \n",
    "from sklearn.metrics import classification_report,confusion_matrix \n",
    "print(classification_report(y_test,pred))\n",
    "print(confusion_matrix(y_test,pred))"
   ]
  },
  {
   "cell_type": "markdown",
   "metadata": {},
   "source": [
    "**Ahora usamos Clusters**"
   ]
  },
  {
   "cell_type": "code",
   "execution_count": 44,
   "metadata": {
    "collapsed": false
   },
   "outputs": [],
   "source": [
    "from sklearn.cluster import KMeans \n",
    "#X = np.array(ab)\n",
    "kmeans = KMeans(n_clusters=3, random_state=0).fit(X)\n",
    "kmeans.labels_\n",
    "\n",
    "clases=kmeans.predict(X)\n",
    "\n",
    "#kmeans.cluster_centers_\n"
   ]
  },
  {
   "cell_type": "code",
   "execution_count": 47,
   "metadata": {
    "collapsed": false
   },
   "outputs": [],
   "source": [
    "clas=np.unique(clases)"
   ]
  },
  {
   "cell_type": "code",
   "execution_count": 115,
   "metadata": {
    "collapsed": false
   },
   "outputs": [
    {
     "data": {
      "text/plain": [
       "array([['M', 0.455, 0.365, ..., 15.0, 2, 2],\n",
       "       ['M', 0.35, 0.265, ..., 7.0, 1, 1],\n",
       "       ['F', 0.53, 0.42, ..., 9.0, 0, 0],\n",
       "       ..., \n",
       "       ['M', 0.6, 0.475, ..., 9.0, 0, 0],\n",
       "       ['F', 0.625, 0.485, ..., 10.0, 0, 0],\n",
       "       ['M', 0.71, 0.555, ..., 12.0, 0, 0]], dtype=object)"
      ]
     },
     "execution_count": 115,
     "metadata": {},
     "output_type": "execute_result"
    }
   ],
   "source": [
    "e=np.column_stack((y,X,clases))\n",
    "e"
   ]
  },
  {
   "cell_type": "code",
   "execution_count": 116,
   "metadata": {
    "collapsed": false
   },
   "outputs": [],
   "source": [
    "X=e[:,1:10]  \n",
    "y=e[:,0]\n",
    "X_train,X_test,y_train,y_test=train_test_split(X,y,test_size=0.2,random_state=6)"
   ]
  },
  {
   "cell_type": "code",
   "execution_count": 117,
   "metadata": {
    "collapsed": false
   },
   "outputs": [
    {
     "name": "stderr",
     "output_type": "stream",
     "text": [
      "/home/abraham/anaconda3/lib/python3.6/site-packages/sklearn/utils/validation.py:444: DataConversionWarning: Data with input dtype object was converted to float64 by StandardScaler.\n",
      "  warnings.warn(msg, DataConversionWarning)\n"
     ]
    },
    {
     "data": {
      "text/plain": [
       "array([[ 0.34719341,  0.4779207 , -0.22472713, ...,  0.76739432,\n",
       "         0.44641135,  0.01917385],\n",
       "       [-1.85405186, -1.88455659, -1.76230958, ..., -1.40021557,\n",
       "        -1.48731392, -1.53567661],\n",
       "       [ 0.43025927,  0.52818617,  1.19457975, ...,  0.56744708,\n",
       "         0.73448961,  0.95208413],\n",
       "       ..., \n",
       "       [-1.23105792, -1.33163637, -1.28920729, ..., -1.18209131,\n",
       "        -1.27845718, -0.91373642],\n",
       "       [-1.31412378, -1.38190185, -1.28920729, ..., -1.19572407,\n",
       "        -1.2100386 , -0.91373642],\n",
       "       [ 0.22259462,  0.17632785,  0.13009959, ..., -0.08238146,\n",
       "        -0.01451385,  0.01917385]])"
      ]
     },
     "execution_count": 117,
     "metadata": {},
     "output_type": "execute_result"
    }
   ],
   "source": [
    "c_train=X_train[:,8]\n",
    "c_test=X_test[:,8]\n",
    "X_train=X_train[:,0:8]\n",
    "X_test=X_test[:,0:8]\n",
    "scalerx = preprocessing.StandardScaler().fit(X_train)\n",
    "X_train=scalerx.transform(X_train)\n",
    "X_test=scalerx.transform(X_test)\n",
    "\n",
    "X_train"
   ]
  },
  {
   "cell_type": "code",
   "execution_count": null,
   "metadata": {
    "collapsed": false
   },
   "outputs": [],
   "source": [
    "rl=LogisticRegression(C=0.01,penalty='l2')\n",
    "rl.fit(X_train,y_train)"
   ]
  },
  {
   "cell_type": "code",
   "execution_count": null,
   "metadata": {
    "collapsed": false
   },
   "outputs": [],
   "source": [
    "pred=rl.predict(X_test) "
   ]
  },
  {
   "cell_type": "code",
   "execution_count": 121,
   "metadata": {
    "collapsed": false
   },
   "outputs": [],
   "source": [
    "X_train0,y_train0=X_train[np.where(c_train==0)],y_train[np.where(c_train==0)]\n",
    "X_train1,y_train1=X_train[np.where(c_train==1)],y_train[np.where(c_train==1)]\n",
    "X_train2,y_train2=X_train[np.where(c_train==2)],y_train[np.where(c_train==2)]\n",
    "\n",
    "X_test0,y_test0=X_test[np.where(c_test==0)],y_test[np.where(c_test==0)]\n",
    "X_test1,y_test1=X_test[np.where(c_test==1)],y_test[np.where(c_test==1)]\n",
    "X_test2,y_test2=X_test[np.where(c_test==2)],y_test[np.where(c_test==2)]"
   ]
  },
  {
   "cell_type": "code",
   "execution_count": 123,
   "metadata": {
    "collapsed": false
   },
   "outputs": [],
   "source": [
    "rl=LogisticRegression(C=0.01,penalty='l2')\n",
    " "
   ]
  },
  {
   "cell_type": "code",
   "execution_count": 124,
   "metadata": {
    "collapsed": true
   },
   "outputs": [],
   "source": [
    "\n",
    "rl.fit(X_train0,y_train0)\n",
    "pred0=rl.predict(X_test0)\n",
    "rl.fit(X_train1,y_train1)\n",
    "pred1=rl.predict(X_test1)\n",
    "rl.fit(X_train2,y_train2)\n",
    "pred2=rl.predict(X_test2)\n"
   ]
  },
  {
   "cell_type": "code",
   "execution_count": null,
   "metadata": {
    "collapsed": false
   },
   "outputs": [],
   "source": []
  },
  {
   "cell_type": "code",
   "execution_count": 136,
   "metadata": {
    "collapsed": false
   },
   "outputs": [],
   "source": [
    "yy=np.concatenate((y_test0, y_test1,y_test2), axis=0)\n",
    "pp=np.concatenate((pred0, pred1,pred2), axis=0)"
   ]
  },
  {
   "cell_type": "code",
   "execution_count": 137,
   "metadata": {
    "collapsed": false
   },
   "outputs": [
    {
     "name": "stdout",
     "output_type": "stream",
     "text": [
      "             precision    recall  f1-score   support\n",
      "\n",
      "          F       0.46      0.24      0.32       269\n",
      "          I       0.63      0.77      0.69       254\n",
      "          M       0.45      0.55      0.49       313\n",
      "\n",
      "avg / total       0.51      0.52      0.50       836\n",
      "\n",
      "[[ 65  41 163]\n",
      " [ 10 196  48]\n",
      " [ 67  74 172]]\n"
     ]
    }
   ],
   "source": [
    "print(classification_report(yy,pp))\n",
    "print(confusion_matrix(yy,pp))"
   ]
  },
  {
   "cell_type": "markdown",
   "metadata": {},
   "source": [
    "Mejora la precision de I y el recall de M"
   ]
  },
  {
   "cell_type": "code",
   "execution_count": null,
   "metadata": {
    "collapsed": true
   },
   "outputs": [],
   "source": []
  }
 ],
 "metadata": {
  "kernelspec": {
   "display_name": "Python 3",
   "language": "python",
   "name": "python3"
  },
  "language_info": {
   "codemirror_mode": {
    "name": "ipython",
    "version": 3
   },
   "file_extension": ".py",
   "mimetype": "text/x-python",
   "name": "python",
   "nbconvert_exporter": "python",
   "pygments_lexer": "ipython3",
   "version": "3.6.0"
  }
 },
 "nbformat": 4,
 "nbformat_minor": 2
}
