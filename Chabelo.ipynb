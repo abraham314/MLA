{
 "cells": [
  {
   "cell_type": "code",
   "execution_count": 3,
   "metadata": {
    "collapsed": true
   },
   "outputs": [],
   "source": [
    "\n",
    "import numpy as np \n"
   ]
  },
  {
   "cell_type": "code",
   "execution_count": 4,
   "metadata": {
    "collapsed": true
   },
   "outputs": [],
   "source": [
    "def puertas(n):\n",
    "    urna1=[]\n",
    "    for i in range(n):\n",
    "        ini=np.random.rand()*100\n",
    "        if ini>=33.333:\n",
    "            urna1.append(0)\n",
    "        else:\n",
    "            urna1.append(1)\n",
    "    urna2=np.zeros(len(urna1))\n",
    "    urna3=np.zeros(len(urna1))\n",
    "    \n",
    "    for i in range(n):\n",
    "        if urna1[i]==0:\n",
    "            urna2[i]=np.random.randint(0,2)\n",
    "        \n",
    "        if urna1[i]+urna2[i]==0:\n",
    "            urna3[i]=1\n",
    "            \n",
    "    return urna1,urna2,urna3        "
   ]
  },
  {
   "cell_type": "code",
   "execution_count": 5,
   "metadata": {
    "collapsed": false
   },
   "outputs": [
    {
     "data": {
      "text/plain": [
       "([0, 0, 0, 0, 0, 1, 0, 0, 0, 0],\n",
       " array([ 1.,  1.,  1.,  1.,  1.,  0.,  0.,  1.,  0.,  1.]),\n",
       " array([ 0.,  0.,  0.,  0.,  0.,  0.,  1.,  0.,  1.,  0.]))"
      ]
     },
     "execution_count": 5,
     "metadata": {},
     "output_type": "execute_result"
    }
   ],
   "source": [
    "u1,u2,u3=puertas(10)\n",
    "u1,u2,u3"
   ]
  },
  {
   "cell_type": "code",
   "execution_count": 134,
   "metadata": {
    "collapsed": false
   },
   "outputs": [
    {
     "data": {
      "text/plain": [
       "array([], dtype=float64)"
      ]
     },
     "execution_count": 134,
     "metadata": {},
     "output_type": "execute_result"
    }
   ],
   "source": [
    "np.array([])"
   ]
  },
  {
   "cell_type": "code",
   "execution_count": 6,
   "metadata": {
    "collapsed": false
   },
   "outputs": [],
   "source": [
    "def chab(n):\n",
    "    u1,u2,u3=puertas(n)\n",
    "    abrechab=np.zeros(len(u1)) \n",
    "    for i in range(len(u1)):\n",
    "        if u1[i]==0:\n",
    "            if u2[i]!=0:\n",
    "                abre=3\n",
    "            else:\n",
    "                abre=2 \n",
    "        else:\n",
    "            abre=np.random.randint(2,4)\n",
    "            \n",
    "        abrechab[i]=abre    \n",
    "        \n",
    "    cambiou=np.zeros(len(abrechab)) \n",
    "    for i in range(len(abrechab)):\n",
    "        if abrechab[i]==2:\n",
    "            cambiou[i]=u3[i]\n",
    "        else:\n",
    "            cambiou[i]=u2[i]\n",
    "    print('la proba de ganar si no cambia es:',np.sum(u1)/n) \n",
    "    print('la proba de ganar si cambia es:',np.sum(cambiou)/n) "
   ]
  },
  {
   "cell_type": "code",
   "execution_count": 10,
   "metadata": {
    "collapsed": false
   },
   "outputs": [
    {
     "name": "stdout",
     "output_type": "stream",
     "text": [
      "la proba de ganar si no cambia es: 0.333\n",
      "la proba de ganar si cambia es: 0.667\n"
     ]
    }
   ],
   "source": [
    "chab(1000)"
   ]
  },
  {
   "cell_type": "code",
   "execution_count": 116,
   "metadata": {
    "collapsed": false
   },
   "outputs": [
    {
     "data": {
      "text/plain": [
       "3"
      ]
     },
     "execution_count": 116,
     "metadata": {},
     "output_type": "execute_result"
    }
   ],
   "source": [
    "np.random.randint(2,4)\n",
    "        "
   ]
  },
  {
   "cell_type": "code",
   "execution_count": 131,
   "metadata": {
    "collapsed": false
   },
   "outputs": [
    {
     "data": {
      "text/plain": [
       "1"
      ]
     },
     "execution_count": 131,
     "metadata": {},
     "output_type": "execute_result"
    }
   ],
   "source": [
    "np.random.randint(0,2)"
   ]
  },
  {
   "cell_type": "code",
   "execution_count": null,
   "metadata": {
    "collapsed": true
   },
   "outputs": [],
   "source": []
  }
 ],
 "metadata": {
  "kernelspec": {
   "display_name": "Python 3",
   "language": "python",
   "name": "python3"
  },
  "language_info": {
   "codemirror_mode": {
    "name": "ipython",
    "version": 3
   },
   "file_extension": ".py",
   "mimetype": "text/x-python",
   "name": "python",
   "nbconvert_exporter": "python",
   "pygments_lexer": "ipython3",
   "version": "3.6.0"
  }
 },
 "nbformat": 4,
 "nbformat_minor": 2
}
