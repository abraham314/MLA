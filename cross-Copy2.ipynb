{
 "cells": [
  {
   "cell_type": "code",
   "execution_count": 2,
   "metadata": {
    "collapsed": false
   },
   "outputs": [],
   "source": [
    "import numpy as np\n",
    "import pandas as pd\n",
    "import random as rnd\n",
    "from sklearn.cross_validation import train_test_split\n",
    "from sklearn.metrics import confusion_matrix\n",
    "from sklearn import linear_model\n",
    "from scipy.stats import *\n",
    "from sklearn import preprocessing \n",
    "import matplotlib.pyplot as plt \n",
    "%matplotlib inline \n",
    "import random as rnd"
   ]
  },
  {
   "cell_type": "code",
   "execution_count": 3,
   "metadata": {
    "collapsed": false
   },
   "outputs": [
    {
     "data": {
      "text/html": [
       "<div>\n",
       "<table border=\"1\" class=\"dataframe\">\n",
       "  <thead>\n",
       "    <tr style=\"text-align: right;\">\n",
       "      <th></th>\n",
       "      <th>X1</th>\n",
       "      <th>X2</th>\n",
       "      <th>X3</th>\n",
       "      <th>X4</th>\n",
       "      <th>X5</th>\n",
       "      <th>X6</th>\n",
       "      <th>X7</th>\n",
       "      <th>X8</th>\n",
       "      <th>X9</th>\n",
       "      <th>X10</th>\n",
       "      <th>...</th>\n",
       "      <th>X30</th>\n",
       "      <th>X31</th>\n",
       "      <th>X32</th>\n",
       "      <th>X33</th>\n",
       "      <th>X34</th>\n",
       "      <th>X35</th>\n",
       "      <th>X36</th>\n",
       "      <th>X37</th>\n",
       "      <th>X38</th>\n",
       "      <th>y</th>\n",
       "    </tr>\n",
       "  </thead>\n",
       "  <tbody>\n",
       "    <tr>\n",
       "      <th>0</th>\n",
       "      <td>153.782162</td>\n",
       "      <td>23648.953370</td>\n",
       "      <td>2.186906</td>\n",
       "      <td>0.155247</td>\n",
       "      <td>16</td>\n",
       "      <td>-153.782162</td>\n",
       "      <td>-23648.95337</td>\n",
       "      <td>-2.186906</td>\n",
       "      <td>-0.155247</td>\n",
       "      <td>-909.534012</td>\n",
       "      <td>...</td>\n",
       "      <td>272</td>\n",
       "      <td>-1856</td>\n",
       "      <td>1390</td>\n",
       "      <td>-4293</td>\n",
       "      <td>4171</td>\n",
       "      <td>-3493</td>\n",
       "      <td>-290</td>\n",
       "      <td>-1017</td>\n",
       "      <td>9</td>\n",
       "      <td>2.033960e+15</td>\n",
       "    </tr>\n",
       "    <tr>\n",
       "      <th>1</th>\n",
       "      <td>645.991251</td>\n",
       "      <td>417304.697100</td>\n",
       "      <td>2.810227</td>\n",
       "      <td>-0.923396</td>\n",
       "      <td>35</td>\n",
       "      <td>-153.782162</td>\n",
       "      <td>-23648.95337</td>\n",
       "      <td>-2.810227</td>\n",
       "      <td>0.923396</td>\n",
       "      <td>343.752475</td>\n",
       "      <td>...</td>\n",
       "      <td>-265</td>\n",
       "      <td>-3587</td>\n",
       "      <td>-2479</td>\n",
       "      <td>-1284</td>\n",
       "      <td>-2127</td>\n",
       "      <td>2369</td>\n",
       "      <td>2657</td>\n",
       "      <td>-1481</td>\n",
       "      <td>-150</td>\n",
       "      <td>4.694470e+19</td>\n",
       "    </tr>\n",
       "    <tr>\n",
       "      <th>2</th>\n",
       "      <td>-412.060457</td>\n",
       "      <td>169793.820200</td>\n",
       "      <td>2.614961</td>\n",
       "      <td>0.489764</td>\n",
       "      <td>-25</td>\n",
       "      <td>-153.782162</td>\n",
       "      <td>-23648.95337</td>\n",
       "      <td>-2.614961</td>\n",
       "      <td>-0.489764</td>\n",
       "      <td>-776.331121</td>\n",
       "      <td>...</td>\n",
       "      <td>9</td>\n",
       "      <td>4104</td>\n",
       "      <td>-4634</td>\n",
       "      <td>-1637</td>\n",
       "      <td>-4228</td>\n",
       "      <td>527</td>\n",
       "      <td>-1773</td>\n",
       "      <td>-1676</td>\n",
       "      <td>67</td>\n",
       "      <td>-2.017100e+18</td>\n",
       "    </tr>\n",
       "    <tr>\n",
       "      <th>3</th>\n",
       "      <td>35.884351</td>\n",
       "      <td>1287.686648</td>\n",
       "      <td>1.554905</td>\n",
       "      <td>-0.970388</td>\n",
       "      <td>-75</td>\n",
       "      <td>-153.782162</td>\n",
       "      <td>-23648.95337</td>\n",
       "      <td>-1.554905</td>\n",
       "      <td>0.970388</td>\n",
       "      <td>696.736200</td>\n",
       "      <td>...</td>\n",
       "      <td>-215</td>\n",
       "      <td>749</td>\n",
       "      <td>-3645</td>\n",
       "      <td>-3202</td>\n",
       "      <td>-1173</td>\n",
       "      <td>-3248</td>\n",
       "      <td>1888</td>\n",
       "      <td>1295</td>\n",
       "      <td>-49</td>\n",
       "      <td>7.629161e+10</td>\n",
       "    </tr>\n",
       "    <tr>\n",
       "      <th>4</th>\n",
       "      <td>-85.073496</td>\n",
       "      <td>7237.499779</td>\n",
       "      <td>1.929794</td>\n",
       "      <td>0.247883</td>\n",
       "      <td>44</td>\n",
       "      <td>-153.782162</td>\n",
       "      <td>-23648.95337</td>\n",
       "      <td>-1.929794</td>\n",
       "      <td>-0.247883</td>\n",
       "      <td>-527.805076</td>\n",
       "      <td>...</td>\n",
       "      <td>-360</td>\n",
       "      <td>2150</td>\n",
       "      <td>507</td>\n",
       "      <td>-1972</td>\n",
       "      <td>-7497</td>\n",
       "      <td>-2427</td>\n",
       "      <td>4368</td>\n",
       "      <td>670</td>\n",
       "      <td>43</td>\n",
       "      <td>-3.225260e+13</td>\n",
       "    </tr>\n",
       "  </tbody>\n",
       "</table>\n",
       "<p>5 rows × 39 columns</p>\n",
       "</div>"
      ],
      "text/plain": [
       "           X1             X2        X3        X4  X5          X6           X7  \\\n",
       "0  153.782162   23648.953370  2.186906  0.155247  16 -153.782162 -23648.95337   \n",
       "1  645.991251  417304.697100  2.810227 -0.923396  35 -153.782162 -23648.95337   \n",
       "2 -412.060457  169793.820200  2.614961  0.489764 -25 -153.782162 -23648.95337   \n",
       "3   35.884351    1287.686648  1.554905 -0.970388 -75 -153.782162 -23648.95337   \n",
       "4  -85.073496    7237.499779  1.929794  0.247883  44 -153.782162 -23648.95337   \n",
       "\n",
       "         X8        X9         X10      ...       X30   X31   X32   X33   X34  \\\n",
       "0 -2.186906 -0.155247 -909.534012      ...       272 -1856  1390 -4293  4171   \n",
       "1 -2.810227  0.923396  343.752475      ...      -265 -3587 -2479 -1284 -2127   \n",
       "2 -2.614961 -0.489764 -776.331121      ...         9  4104 -4634 -1637 -4228   \n",
       "3 -1.554905  0.970388  696.736200      ...      -215   749 -3645 -3202 -1173   \n",
       "4 -1.929794 -0.247883 -527.805076      ...      -360  2150   507 -1972 -7497   \n",
       "\n",
       "    X35   X36   X37  X38             y  \n",
       "0 -3493  -290 -1017    9  2.033960e+15  \n",
       "1  2369  2657 -1481 -150  4.694470e+19  \n",
       "2   527 -1773 -1676   67 -2.017100e+18  \n",
       "3 -3248  1888  1295  -49  7.629161e+10  \n",
       "4 -2427  4368   670   43 -3.225260e+13  \n",
       "\n",
       "[5 rows x 39 columns]"
      ]
     },
     "execution_count": 3,
     "metadata": {},
     "output_type": "execute_result"
    }
   ],
   "source": [
    "df=pd.read_csv('regLinPoli2.csv')\n",
    "df.head()"
   ]
  },
  {
   "cell_type": "code",
   "execution_count": 4,
   "metadata": {
    "collapsed": true
   },
   "outputs": [],
   "source": [
    "X=np.array(df.iloc[:,0:38]) \n",
    "y=np.array(df.iloc[:,38])"
   ]
  },
  {
   "cell_type": "code",
   "execution_count": 5,
   "metadata": {
    "collapsed": false
   },
   "outputs": [
    {
     "data": {
      "text/plain": [
       "1029"
      ]
     },
     "execution_count": 5,
     "metadata": {},
     "output_type": "execute_result"
    }
   ],
   "source": [
    "len(df)"
   ]
  },
  {
   "cell_type": "code",
   "execution_count": null,
   "metadata": {
    "collapsed": false
   },
   "outputs": [],
   "source": []
  },
  {
   "cell_type": "code",
   "execution_count": null,
   "metadata": {
    "collapsed": false
   },
   "outputs": [],
   "source": []
  },
  {
   "cell_type": "code",
   "execution_count": 6,
   "metadata": {
    "collapsed": false
   },
   "outputs": [],
   "source": [
    "selec=[]\n",
    "n=(np.floor(np.round(len(X)/10.0))).astype(int)\n",
    "w=list(df.index.values)\n",
    "for i in range(10):\n",
    "    if len(w)>=n:\n",
    "        samp=list((rnd.sample(w,n)))\n",
    "        selec=selec+[samp]\n",
    "        w=[x for x in w if x not in samp]\n",
    "    else:\n",
    "        samp=list((rnd.sample(w,len(w))))\n",
    "        selec=selec+[samp]\n",
    "   "
   ]
  },
  {
   "cell_type": "code",
   "execution_count": 7,
   "metadata": {
    "collapsed": false
   },
   "outputs": [
    {
     "data": {
      "text/plain": [
       "103"
      ]
     },
     "execution_count": 7,
     "metadata": {},
     "output_type": "execute_result"
    }
   ],
   "source": [
    "len(selec[8])"
   ]
  },
  {
   "cell_type": "code",
   "execution_count": 8,
   "metadata": {
    "collapsed": true
   },
   "outputs": [],
   "source": [
    "def crossval(X,a,sel):\n",
    "    train=[x for x in a if x not in sel]\n",
    "    valid=[x for x in a if x in sel]\n",
    "    return train,valid"
   ]
  },
  {
   "cell_type": "code",
   "execution_count": null,
   "metadata": {
    "collapsed": false
   },
   "outputs": [],
   "source": []
  },
  {
   "cell_type": "code",
   "execution_count": null,
   "metadata": {
    "collapsed": false
   },
   "outputs": [],
   "source": []
  },
  {
   "cell_type": "code",
   "execution_count": null,
   "metadata": {
    "collapsed": false
   },
   "outputs": [],
   "source": []
  },
  {
   "cell_type": "code",
   "execution_count": 12,
   "metadata": {
    "collapsed": false
   },
   "outputs": [],
   "source": [
    "def salida(w0,w,X):\n",
    "    suma = w0\n",
    "    for i in range(len(w)):\n",
    "        suma = suma + w[i]*X[i]\n",
    "    return suma"
   ]
  },
  {
   "cell_type": "code",
   "execution_count": 13,
   "metadata": {
    "collapsed": true
   },
   "outputs": [],
   "source": [
    "def regularizado(w,x,y,lam,eta):\n",
    "\n",
    "    for i in range(len(x)):\n",
    "\n",
    "        sal = salida(w[0],w[1:len(w)],x[i])\n",
    "        #Calculo el error de prediccion        \n",
    "        error =y[i] - sal\n",
    "        # Obtengo el error w0\n",
    "        w[0] = w[0] + eta*error\n",
    "        \n",
    "    \n",
    "        for j in range(len(x.T)):\n",
    "            w[j+1] = w[j+1] + eta*error*X_train[i,j] - lam*w[j+1]\n",
    "        \n",
    "    return w"
   ]
  },
  {
   "cell_type": "code",
   "execution_count": 98,
   "metadata": {
    "collapsed": false
   },
   "outputs": [],
   "source": []
  },
  {
   "cell_type": "code",
   "execution_count": 99,
   "metadata": {
    "collapsed": false
   },
   "outputs": [],
   "source": []
  },
  {
   "cell_type": "code",
   "execution_count": 22,
   "metadata": {
    "collapsed": false
   },
   "outputs": [
    {
     "data": {
      "text/plain": [
       "50"
      ]
     },
     "execution_count": 22,
     "metadata": {},
     "output_type": "execute_result"
    }
   ],
   "source": [
    "len(np.arange(0.0,.5,0.01))"
   ]
  },
  {
   "cell_type": "code",
   "execution_count": 45,
   "metadata": {
    "collapsed": false
   },
   "outputs": [],
   "source": [
    "#lmb=np.array([])\n",
    "errprom=np.array([]) \n",
    "lamb=np.arange(0.0,.01,0.001)\n",
    "for i in lamb:\n",
    "    errmin=[]\n",
    "    for j in range(len(selec)):\n",
    "        train,test=crossval(X,list(df.index.values),selec[j])\n",
    "        X_train=X[train]\n",
    "        y_train=y[train]\n",
    "        X_test=X[test]\n",
    "        y_test=y[test]\n",
    "        \n",
    "        scalerx = preprocessing.StandardScaler().fit(X_train)\n",
    "        X_train=scalerx.transform(X_train)\n",
    "        X_test=scalerx.transform(X_test)\n",
    "        \n",
    "        m=np.mean(y_train)\n",
    "        sd=np.std(y_train)\n",
    "        y_train=(y_train-m)/sd\n",
    "        y_test=(y_test-m)/sd\n",
    "        \n",
    "        w=[rnd.random() for i in range(X_train.shape[1]+1)]\n",
    "        \n",
    "        w=regularizado(w,X_train,y_train,i,0.01)\n",
    "        errt=np.mean((y_train - (w[0]+ np.dot(X_train,w[1:len(w)])))**2)\n",
    "        errmin=errmin+[errt]\n",
    "    errprom=np.append(errprom,np.mean(np.array(errmin)))    \n",
    "    "
   ]
  },
  {
   "cell_type": "code",
   "execution_count": 47,
   "metadata": {
    "collapsed": false
   },
   "outputs": [
    {
     "data": {
      "text/plain": [
       "[<matplotlib.lines.Line2D at 0x7f882d916e48>]"
      ]
     },
     "execution_count": 47,
     "metadata": {},
     "output_type": "execute_result"
    },
    {
     "data": {
      "image/png": "[encoded data removed]",
      "text/plain": [
       "<matplotlib.figure.Figure at 0x7f882d916f28>"
      ]
     },
     "metadata": {},
     "output_type": "display_data"
    }
   ],
   "source": [
    "plt.scatter(lamb,errprom)\n",
    "plt.plot(lamb[np.where(abs(np.array(errprom))==min(abs(np.array(errprom))))],min(abs(np.array(errprom))),'p-',color='red',ms=9)"
   ]
  },
  {
   "cell_type": "code",
   "execution_count": 48,
   "metadata": {
    "collapsed": false
   },
   "outputs": [
    {
     "data": {
      "text/plain": [
       "array([ 0.002])"
      ]
     },
     "execution_count": 48,
     "metadata": {},
     "output_type": "execute_result"
    }
   ],
   "source": [
    "np.min(errprom)\n",
    "lamb[np.where(abs(np.array(errprom))==min(abs(np.array(errprom))))]"
   ]
  },
  {
   "cell_type": "code",
   "execution_count": 159,
   "metadata": {
    "collapsed": false
   },
   "outputs": [],
   "source": [
    "lmb=np.array([])\n",
    "errmin=np.array([])\n",
    "for j in range(len(selec)):\n",
    "    \n",
    "    train,test=crossval(X,list(df.index.values),selec[j])\n",
    "    X_train=X[train]\n",
    "    y_train=y[train]\n",
    "    X_test=X[test]\n",
    "    y_test=y[test]\n",
    "    \n",
    "    scalerx = preprocessing.StandardScaler().fit(X_train)\n",
    "    X_train=scalerx.transform(X_train)\n",
    "    X_test=scalerx.transform(X_test)\n",
    "\n",
    "    m=np.mean(y_train)\n",
    "    sd=np.std(y_train)\n",
    "    y_train=(y_train-m)/sd\n",
    "    y_test=(y_test-m)/sd\n",
    "    \n",
    "    w=[rnd.random() for i in range(X_train.shape[1]+1)]\n",
    "    lamb=np.arange(0.0,.03,0.001)\n",
    "    err=[]\n",
    "    for i in lamb:\n",
    "        w=regularizado(w,X_train,y_train,i,0.01)\n",
    "        #err=np.append(err,error)\n",
    "    #print(lamb[np.where(abs(err)==min(abs(err)))][0])\n",
    "        errt=np.mean((y_train - (w[0]+ np.dot(X_train,w[1:len(w)])))**2)\n",
    "        err=err+[errt]\n",
    "    #print(err)    \n",
    "    lmb=np.append(lmb,lamb[np.where(abs(np.array(err))==min(abs(np.array(err))))]) \n",
    "    errmin=np.append(errmin,err[np.where(abs(np.array(err))==min(abs(np.array(err))))[0][0]])"
   ]
  },
  {
   "cell_type": "code",
   "execution_count": 160,
   "metadata": {
    "collapsed": false
   },
   "outputs": [
    {
     "data": {
      "text/plain": [
       "array([ 0.54682896,  0.54241378,  0.51453592,  0.58083801,  0.51635842,\n",
       "        0.53705562,  0.53775043,  0.53078444,  0.55705959,  0.5341516 ])"
      ]
     },
     "execution_count": 160,
     "metadata": {},
     "output_type": "execute_result"
    }
   ],
   "source": [
    "errmin"
   ]
  },
  {
   "cell_type": "code",
   "execution_count": 161,
   "metadata": {
    "collapsed": false
   },
   "outputs": [
    {
     "data": {
      "text/plain": [
       "array([ 0.002,  0.002,  0.001,  0.001,  0.001,  0.001,  0.001,  0.001,\n",
       "        0.002,  0.001])"
      ]
     },
     "execution_count": 161,
     "metadata": {},
     "output_type": "execute_result"
    }
   ],
   "source": [
    "lmb"
   ]
  },
  {
   "cell_type": "code",
   "execution_count": 162,
   "metadata": {
    "collapsed": false
   },
   "outputs": [
    {
     "data": {
      "text/plain": [
       "<matplotlib.collections.PathCollection at 0x7fb122e72a58>"
      ]
     },
     "execution_count": 162,
     "metadata": {},
     "output_type": "execute_result"
    },
    {
     "data": {
      "image/png": "[encoded data removed]",
      "text/plain": [
       "<matplotlib.figure.Figure at 0x7fb123b03940>"
      ]
     },
     "metadata": {},
     "output_type": "display_data"
    }
   ],
   "source": [
    "plt.scatter(lmb,errmin)"
   ]
  },
  {
   "cell_type": "code",
   "execution_count": 169,
   "metadata": {
    "collapsed": true
   },
   "outputs": [],
   "source": [
    "def cross_reg(a,k):\n",
    "    \n",
    "    selec=[]\n",
    "    n=(np.floor(np.round(len(X)/k))).astype(int)\n",
    "    w=list(a.index.values)\n",
    "    for i in range(k):\n",
    "        if len(w)>=n:\n",
    "            samp=list((rnd.sample(w,n)))\n",
    "            selec=selec+[samp]\n",
    "            w=[x for x in w if x not in samp]\n",
    "        else:\n",
    "            samp=list((rnd.sample(w,len(w))))\n",
    "            selec=selec+[samp]\n",
    "    \n",
    "    lmb=np.array([])\n",
    "    errmin=np.array([])\n",
    "    for j in range(len(selec)):\n",
    "        \n",
    "        train,test=crossval(X,list(a.index.values),selec[j])\n",
    "        X_train=X[train]\n",
    "        y_train=y[train]\n",
    "        X_test=X[test]\n",
    "        y_test=y[test]\n",
    "    \n",
    "        scalerx = preprocessing.StandardScaler().fit(X_train)\n",
    "        X_train=scalerx.transform(X_train)\n",
    "        X_test=scalerx.transform(X_test)\n",
    "\n",
    "        m=np.mean(y_train)\n",
    "        sd=np.std(y_train)\n",
    "        y_train=(y_train-m)/sd\n",
    "        y_test=(y_test-m)/sd\n",
    "    \n",
    "        w=[rnd.random() for i in range(X_train.shape[1]+1)]\n",
    "        lamb=np.arange(0.0,.03,0.001)\n",
    "        err=[]\n",
    "        for i in lamb:\n",
    "            w=regularizado(w,X_train,y_train,i,0.01)\n",
    "            #err=np.append(err,error)\n",
    "        #print(lamb[np.where(abs(err)==min(abs(err)))][0])\n",
    "            errt=np.mean((y_train - (w[0]+ np.dot(X_train,w[1:len(w)])))**2)\n",
    "            err=err+[errt]\n",
    "            #print(err)    \n",
    "        lmb=np.append(lmb,lamb[np.where(abs(np.array(err))==min(abs(np.array(err))))]) \n",
    "        errmin=np.append(errmin,err[np.where(abs(np.array(err))==min(abs(np.array(err))))[0][0]])\n",
    "    return(lmb,errmin)"
   ]
  },
  {
   "cell_type": "code",
   "execution_count": 170,
   "metadata": {
    "collapsed": false
   },
   "outputs": [],
   "source": [
    "la,ermin=cross_reg(df,10)"
   ]
  },
  {
   "cell_type": "code",
   "execution_count": 171,
   "metadata": {
    "collapsed": false
   },
   "outputs": [
    {
     "data": {
      "text/plain": [
       "array([ 0.029,  0.029,  0.011,  0.029,  0.008,  0.029,  0.029,  0.029,\n",
       "        0.029,  0.029])"
      ]
     },
     "execution_count": 171,
     "metadata": {},
     "output_type": "execute_result"
    }
   ],
   "source": [
    "la"
   ]
  },
  {
   "cell_type": "code",
   "execution_count": 172,
   "metadata": {
    "collapsed": false
   },
   "outputs": [
    {
     "data": {
      "text/plain": [
       "array([ 0.87686375,  0.97867491,  0.99029776,  1.01473212,  1.1287919 ,\n",
       "        0.891613  ,  1.08978854,  1.0030869 ,  1.05819921,  0.91692035])"
      ]
     },
     "execution_count": 172,
     "metadata": {},
     "output_type": "execute_result"
    }
   ],
   "source": [
    "ermin"
   ]
  },
  {
   "cell_type": "code",
   "execution_count": 173,
   "metadata": {
    "collapsed": false
   },
   "outputs": [
    {
     "data": {
      "text/plain": [
       "<matplotlib.text.Text at 0x7fb122cfb9e8>"
      ]
     },
     "execution_count": 173,
     "metadata": {},
     "output_type": "execute_result"
    },
    {
     "data": {
      "image/png": "[encoded data removed]",
      "text/plain": [
       "<matplotlib.figure.Figure at 0x7fb122cc6080>"
      ]
     },
     "metadata": {},
     "output_type": "display_data"
    }
   ],
   "source": [
    "plt.scatter(la,ermin)\n",
    "plt.title('lambda vs. error_iter')"
   ]
  },
  {
   "cell_type": "code",
   "execution_count": 154,
   "metadata": {
    "collapsed": false
   },
   "outputs": [
    {
     "data": {
      "text/plain": [
       "0.023700000000000002"
      ]
     },
     "execution_count": 154,
     "metadata": {},
     "output_type": "execute_result"
    }
   ],
   "source": [
    "np.mean(la)"
   ]
  },
  {
   "cell_type": "code",
   "execution_count": null,
   "metadata": {
    "collapsed": false
   },
   "outputs": [],
   "source": []
  },
  {
   "cell_type": "code",
   "execution_count": null,
   "metadata": {
    "collapsed": false
   },
   "outputs": [],
   "source": []
  },
  {
   "cell_type": "code",
   "execution_count": 327,
   "metadata": {
    "collapsed": false
   },
   "outputs": [
    {
     "data": {
      "text/plain": [
       "array([-0.0001,  0.    ,  0.0001,  0.0002])"
      ]
     },
     "execution_count": 327,
     "metadata": {},
     "output_type": "execute_result"
    }
   ],
   "source": [
    "np.arange(-.0001,.0003,0.0001)"
   ]
  },
  {
   "cell_type": "code",
   "execution_count": null,
   "metadata": {
    "collapsed": true
   },
   "outputs": [],
   "source": []
  }
 ],
 "metadata": {
  "kernelspec": {
   "display_name": "Python 3",
   "language": "python",
   "name": "python3"
  },
  "language_info": {
   "codemirror_mode": {
    "name": "ipython",
    "version": 3
   },
   "file_extension": ".py",
   "mimetype": "text/x-python",
   "name": "python",
   "nbconvert_exporter": "python",
   "pygments_lexer": "ipython3",
   "version": "3.6.0"
  }
 },
 "nbformat": 4,
 "nbformat_minor": 2
}
