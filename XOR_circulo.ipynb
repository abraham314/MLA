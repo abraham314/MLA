{
 "cells": [
  {
   "cell_type": "code",
   "execution_count": 2,
   "metadata": {
    "collapsed": false
   },
   "outputs": [],
   "source": [
    "import pandas as pd\n",
    "import numpy as np\n",
    "import csv\n",
    "from sklearn.cross_validation import train_test_split\n",
    "from sklearn.linear_model import LinearRegression\n",
    "import matplotlib.pyplot as plt\n",
    "%matplotlib inline\n",
    "import random as rnd \n",
    "import tensorflow as tf"
   ]
  },
  {
   "cell_type": "code",
   "execution_count": 3,
   "metadata": {
    "collapsed": false,
    "scrolled": true
   },
   "outputs": [
    {
     "data": {
      "text/html": [
       "<div>\n",
       "<table border=\"1\" class=\"dataframe\">\n",
       "  <thead>\n",
       "    <tr style=\"text-align: right;\">\n",
       "      <th></th>\n",
       "      <th>X1</th>\n",
       "      <th>X2</th>\n",
       "      <th>y</th>\n",
       "    </tr>\n",
       "  </thead>\n",
       "  <tbody>\n",
       "    <tr>\n",
       "      <th>0</th>\n",
       "      <td>0</td>\n",
       "      <td>0</td>\n",
       "      <td>0</td>\n",
       "    </tr>\n",
       "    <tr>\n",
       "      <th>1</th>\n",
       "      <td>0</td>\n",
       "      <td>1</td>\n",
       "      <td>1</td>\n",
       "    </tr>\n",
       "    <tr>\n",
       "      <th>2</th>\n",
       "      <td>1</td>\n",
       "      <td>0</td>\n",
       "      <td>1</td>\n",
       "    </tr>\n",
       "    <tr>\n",
       "      <th>3</th>\n",
       "      <td>1</td>\n",
       "      <td>1</td>\n",
       "      <td>0</td>\n",
       "    </tr>\n",
       "  </tbody>\n",
       "</table>\n",
       "</div>"
      ],
      "text/plain": [
       "   X1  X2  y\n",
       "0   0   0  0\n",
       "1   0   1  1\n",
       "2   1   0  1\n",
       "3   1   1  0"
      ]
     },
     "execution_count": 3,
     "metadata": {},
     "output_type": "execute_result"
    }
   ],
   "source": [
    "df_Xor=pd.DataFrame({'X1':[0,0,1,1],'X2':[0,1,0,1],'y':[0,1,1,0]})\n",
    "df_Xor"
   ]
  },
  {
   "cell_type": "code",
   "execution_count": 4,
   "metadata": {
    "collapsed": true
   },
   "outputs": [],
   "source": [
    "Xd=np.asarray(df_Xor.iloc[:,0:2]) \n",
    "yd=np.reshape(np.asarray([df_Xor.iloc[:,2]]),[4,1])"
   ]
  },
  {
   "cell_type": "code",
   "execution_count": 5,
   "metadata": {
    "collapsed": false
   },
   "outputs": [],
   "source": [
    "x1 = np.float32(np.array([np.random.uniform(-0.5,1.5) for i in range(10000)]))\n",
    "x2 = np.float32(np.array([np.random.uniform(-0.5,1.5) for i in range(10000)]))\n",
    "Xk = np.array([[x1[i],x2[i]] for i in range(len(x1))])"
   ]
  },
  {
   "cell_type": "code",
   "execution_count": 6,
   "metadata": {
    "collapsed": true
   },
   "outputs": [],
   "source": [
    "input_size=2\n",
    "hidden_layers=2\n",
    "output_size=1"
   ]
  },
  {
   "cell_type": "code",
   "execution_count": 7,
   "metadata": {
    "collapsed": false
   },
   "outputs": [],
   "source": [
    "x=tf.placeholder(tf.float32,shape=[None,input_size])\n",
    "y=tf.placeholder(tf.float32,shape=[None,output_size])\n"
   ]
  },
  {
   "cell_type": "code",
   "execution_count": 8,
   "metadata": {
    "collapsed": false
   },
   "outputs": [],
   "source": [
    "W1=tf.Variable(tf.random_uniform([input_size,hidden_layers])) \n",
    "W2=tf.Variable(tf.random_uniform([hidden_layers,output_size])) \n",
    "b1=tf.Variable(tf.zeros([hidden_layers])) \n",
    "b2=tf.Variable(tf.zeros([output_size]))"
   ]
  },
  {
   "cell_type": "code",
   "execution_count": 9,
   "metadata": {
    "collapsed": false
   },
   "outputs": [],
   "source": [
    "ini=tf.global_variables_initializer() \n",
    "sess=tf.InteractiveSession()\n",
    "sess.run(ini)"
   ]
  },
  {
   "cell_type": "code",
   "execution_count": 10,
   "metadata": {
    "collapsed": false
   },
   "outputs": [],
   "source": [
    "z1=tf.sigmoid(tf.add(tf.matmul(x,W1),b1)) "
   ]
  },
  {
   "cell_type": "code",
   "execution_count": 11,
   "metadata": {
    "collapsed": false
   },
   "outputs": [],
   "source": [
    "z2=tf.sigmoid(tf.add(tf.matmul(z1,W2),b2))"
   ]
  },
  {
   "cell_type": "code",
   "execution_count": 12,
   "metadata": {
    "collapsed": true
   },
   "outputs": [],
   "source": [
    "lossfn= tf.reduce_mean(( (y * tf.log(z2)) +  \n",
    "  ((1 - y) * tf.log(1.0 - z2)) ) * -1) # cross entropy"
   ]
  },
  {
   "cell_type": "code",
   "execution_count": 13,
   "metadata": {
    "collapsed": true
   },
   "outputs": [],
   "source": [
    "train_step = tf.train.GradientDescentOptimizer(learning_rate=0.01).minimize(lossfn)"
   ]
  },
  {
   "cell_type": "code",
   "execution_count": 14,
   "metadata": {
    "collapsed": true
   },
   "outputs": [],
   "source": [
    "ini=tf.global_variables_initializer() "
   ]
  },
  {
   "cell_type": "code",
   "execution_count": 15,
   "metadata": {
    "collapsed": false
   },
   "outputs": [],
   "source": [
    "with tf.Session() as sess:\n",
    "    corrpred=tf.equal(tf.round(z2),y)\n",
    "    acc=tf.reduce_mean(tf.cast(corrpred,tf.float32))\n",
    "    #print(sess.run(acc,feed_dict={x:Xd,y:yd}))"
   ]
  },
  {
   "cell_type": "code",
   "execution_count": 16,
   "metadata": {
    "collapsed": false
   },
   "outputs": [],
   "source": [
    "sess.run(ini)\n",
    "#while (sess.run(acc,feed_dict={x: Xd,y: yd})) != 1.0:\n",
    "#    sess.run(train_step,feed_dict={x: Xd, y: yd})\n",
    "\n",
    "for i in range(100000):\n",
    "    sess.run(train_step, feed_dict={x: Xd, y: yd})    "
   ]
  },
  {
   "cell_type": "code",
   "execution_count": 17,
   "metadata": {
    "collapsed": false
   },
   "outputs": [],
   "source": [
    "#sess.run(b1)"
   ]
  },
  {
   "cell_type": "code",
   "execution_count": 18,
   "metadata": {
    "collapsed": false
   },
   "outputs": [
    {
     "name": "stdout",
     "output_type": "stream",
     "text": [
      "1.0\n"
     ]
    }
   ],
   "source": [
    "correct_prediction = tf.equal(tf.round(z2),y) # aca estams definiendo otras operacioes\n",
    "accuracy = tf.reduce_mean(tf.cast(correct_prediction, tf.float32))\n",
    "print(sess.run(accuracy, feed_dict={x: Xd, y: yd})) # las corremos"
   ]
  },
  {
   "cell_type": "code",
   "execution_count": 19,
   "metadata": {
    "collapsed": false
   },
   "outputs": [],
   "source": [
    "#a=sess.run(W1,feed_dict={x:Xd,y:yd})\n",
    "#a"
   ]
  },
  {
   "cell_type": "code",
   "execution_count": 60,
   "metadata": {
    "collapsed": false
   },
   "outputs": [],
   "source": [
    "#sess.run(b1,feed_dict={x:Xd,y:yd})[0]+sess.run(W1,feed_dict={x:Xd,y:yd})[0]"
   ]
  },
  {
   "cell_type": "code",
   "execution_count": 61,
   "metadata": {
    "collapsed": false
   },
   "outputs": [],
   "source": [
    "#W1=[sess.run(b1,feed_dict={x:Xd,y:yd})[0]]+[i[0] for i in sess.run(W1,feed_dict={x:Xd,y:yd})]\n",
    "#W2=[sess.run(b2,feed_dict={x:Xd,y:yd})[0]]+[i[0] for i in sess.run(W2,feed_dict={x:Xd,y:yd})]"
   ]
  },
  {
   "cell_type": "markdown",
   "metadata": {},
   "source": [
    "**predicción**"
   ]
  },
  {
   "cell_type": "code",
   "execution_count": 20,
   "metadata": {
    "collapsed": false
   },
   "outputs": [],
   "source": [
    "zz1=tf.sigmoid(tf.add(tf.matmul(x,W1),b1)) "
   ]
  },
  {
   "cell_type": "code",
   "execution_count": 21,
   "metadata": {
    "collapsed": false
   },
   "outputs": [],
   "source": [
    "zz2=tf.sigmoid(tf.add(tf.matmul(zz1,W2),b2))"
   ]
  },
  {
   "cell_type": "code",
   "execution_count": 22,
   "metadata": {
    "collapsed": false
   },
   "outputs": [
    {
     "data": {
      "text/plain": [
       "array([[ 0.02179728],\n",
       "       [ 0.98269457],\n",
       "       [ 0.98278081],\n",
       "       [ 0.01922916]], dtype=float32)"
      ]
     },
     "execution_count": 22,
     "metadata": {},
     "output_type": "execute_result"
    }
   ],
   "source": [
    "sess.run(zz2,feed_dict={x:Xd})"
   ]
  },
  {
   "cell_type": "code",
   "execution_count": 23,
   "metadata": {
    "collapsed": false
   },
   "outputs": [],
   "source": [
    "w1=sess.run(W1)[0] \n",
    "w2=sess.run(W1)[1]\n",
    "b=sess.run(b1)"
   ]
  },
  {
   "cell_type": "code",
   "execution_count": 24,
   "metadata": {
    "collapsed": false
   },
   "outputs": [
    {
     "data": {
      "text/plain": [
       "[<matplotlib.lines.Line2D at 0x7f9a043d9d68>]"
      ]
     },
     "execution_count": 24,
     "metadata": {},
     "output_type": "execute_result"
    },
    {
     "data": {
      "image/png": "[encoded data removed]",
      "text/plain": [
       "<matplotlib.figure.Figure at 0x7f9a043d9e80>"
      ]
     },
     "metadata": {},
     "output_type": "display_data"
    }
   ],
   "source": [
    "plt.scatter(df_Xor[df_Xor['y']==1]['X1'],df_Xor[df_Xor['y']==1]['X2'],color='blue') \n",
    "plt.scatter(df_Xor[df_Xor['y']==0]['X1'],df_Xor[df_Xor['y']==0]['X2'],color='red')\n",
    "x=np.linspace(-1.5,1.5,10)\n",
    "#plt.plot(x,-(w2[0,0]/w2[2,0])-(w2[1,0]/w2[2,0])*x) \n",
    "\n",
    "plt.plot(x,-(b[0]/w1[1])-(w1[0]/w1[1])*x) \n",
    "plt.plot(x,-(b[1]/w2[1])-(w2[0]/w2[1])*x)"
   ]
  },
  {
   "cell_type": "code",
   "execution_count": 25,
   "metadata": {
    "collapsed": false
   },
   "outputs": [],
   "source": [
    "#sess.run(b1)"
   ]
  },
  {
   "cell_type": "code",
   "execution_count": 26,
   "metadata": {
    "collapsed": false
   },
   "outputs": [],
   "source": [
    "#sess.run(W1)"
   ]
  },
  {
   "cell_type": "markdown",
   "metadata": {
    "collapsed": false
   },
   "source": [
    "**Varios puntos....**"
   ]
  },
  {
   "cell_type": "code",
   "execution_count": 27,
   "metadata": {
    "collapsed": false
   },
   "outputs": [],
   "source": [
    "zw1=tf.sigmoid(tf.add(tf.matmul(Xk,W1),b1)) \n",
    "zw2=tf.sigmoid(tf.add(tf.matmul(zw1,W2),b2))"
   ]
  },
  {
   "cell_type": "code",
   "execution_count": 28,
   "metadata": {
    "collapsed": false
   },
   "outputs": [],
   "source": [
    "zx=sess.run(zw2)"
   ]
  },
  {
   "cell_type": "code",
   "execution_count": 29,
   "metadata": {
    "collapsed": false
   },
   "outputs": [
    {
     "data": {
      "text/plain": [
       "array([[ 0.96398169],\n",
       "       [ 0.89975053],\n",
       "       [ 0.01069446],\n",
       "       ..., \n",
       "       [ 0.00793894],\n",
       "       [ 0.01697125],\n",
       "       [ 0.93114704]], dtype=float32)"
      ]
     },
     "execution_count": 29,
     "metadata": {},
     "output_type": "execute_result"
    }
   ],
   "source": [
    "zx"
   ]
  },
  {
   "cell_type": "code",
   "execution_count": 30,
   "metadata": {
    "collapsed": false
   },
   "outputs": [
    {
     "data": {
      "text/plain": [
       "4763.0"
      ]
     },
     "execution_count": 30,
     "metadata": {},
     "output_type": "execute_result"
    }
   ],
   "source": [
    "dd=np.round(zx)\n",
    "np.sum(dd)"
   ]
  },
  {
   "cell_type": "code",
   "execution_count": 31,
   "metadata": {
    "collapsed": false
   },
   "outputs": [
    {
     "data": {
      "text/plain": [
       "<matplotlib.collections.PathCollection at 0x7f9a0423b0f0>"
      ]
     },
     "execution_count": 31,
     "metadata": {},
     "output_type": "execute_result"
    },
    {
     "data": {
      "image/png": "[encoded data removed]",
      "text/plain": [
       "<matplotlib.figure.Figure at 0x7f9a043180b8>"
      ]
     },
     "metadata": {},
     "output_type": "display_data"
    }
   ],
   "source": [
    "plt.scatter(Xk[:,0],Xk[:,1],color=['green' if i==1 else 'yellow' for i in dd]) "
   ]
  },
  {
   "cell_type": "markdown",
   "metadata": {
    "collapsed": false
   },
   "source": [
    "# CIRCULO"
   ]
  },
  {
   "cell_type": "code",
   "execution_count": 68,
   "metadata": {
    "collapsed": false
   },
   "outputs": [
    {
     "data": {
      "image/png": "[encoded data removed]",
      "text/plain": [
       "<matplotlib.figure.Figure at 0x7f99e41da208>"
      ]
     },
     "metadata": {},
     "output_type": "display_data"
    }
   ],
   "source": [
    "\n",
    "x1 = np.array([np.random.uniform(-6,6) for i in range(10000)])\n",
    "x2 = np.array([np.random.uniform(-6,6) for i in range(10000)])\n",
    "\n",
    "dat=pd.DataFrame(x1,columns=['x1'])\n",
    "dat['x2']=x2 \n",
    "dat['x1cuad']=dat['x1']**2\n",
    "dat['x2cuad']=dat['x1']**2\n",
    "dat['y']=(dat['x1']**2+dat['x2']**2).apply(lambda x: 1 if x<=16 else 0)\n",
    "dat\n",
    "\n",
    "plt.scatter(dat['x1'],dat['x2'])\n",
    "plt.scatter(dat[dat['y']==1]['x1'],dat[dat['y']==1]['x2'],color='red')\n",
    "plt.axis(\"equal\")\n",
    "#plt.plot(dat[dat['y']==1]['x1'],dat[dat['y']==1]['x2'],color='green')\n",
    "\n",
    "Xq=np.asarray(dat[['x1','x2','x1cuad','x2cuad']]) \n",
    "#X=np.concatenate((np.ones((X.shape[0],1)), X), 1)\n",
    "yq=np.asarray(dat[['y']])"
   ]
  },
  {
   "cell_type": "code",
   "execution_count": 43,
   "metadata": {
    "collapsed": true
   },
   "outputs": [],
   "source": [
    "input_size=4\n",
    "hidden_layers=3\n",
    "output_size=1"
   ]
  },
  {
   "cell_type": "code",
   "execution_count": 44,
   "metadata": {
    "collapsed": true
   },
   "outputs": [],
   "source": [
    "x=tf.placeholder(tf.float32,shape=[None,input_size])\n",
    "y=tf.placeholder(tf.float32,shape=[None,output_size])"
   ]
  },
  {
   "cell_type": "code",
   "execution_count": 45,
   "metadata": {
    "collapsed": true
   },
   "outputs": [],
   "source": [
    "W1=tf.Variable(tf.random_uniform([input_size,hidden_layers])) \n",
    "W2=tf.Variable(tf.random_uniform([hidden_layers,output_size])) \n",
    "b1=tf.Variable(tf.zeros([hidden_layers])) \n",
    "b2=tf.Variable(tf.zeros([output_size]))"
   ]
  },
  {
   "cell_type": "code",
   "execution_count": 46,
   "metadata": {
    "collapsed": true
   },
   "outputs": [],
   "source": [
    "ini=tf.global_variables_initializer() \n",
    "sess=tf.InteractiveSession()\n",
    "sess.run(ini)"
   ]
  },
  {
   "cell_type": "code",
   "execution_count": 47,
   "metadata": {
    "collapsed": true
   },
   "outputs": [],
   "source": [
    "z1=tf.sigmoid(tf.add(tf.matmul(x,W1),b1)) "
   ]
  },
  {
   "cell_type": "code",
   "execution_count": 48,
   "metadata": {
    "collapsed": true
   },
   "outputs": [],
   "source": [
    "z2=tf.sigmoid(tf.add(tf.matmul(z1,W2),b2))"
   ]
  },
  {
   "cell_type": "code",
   "execution_count": 49,
   "metadata": {
    "collapsed": true
   },
   "outputs": [],
   "source": [
    "lossfn= tf.reduce_mean(( (y * tf.log(z2)) +  \n",
    "  ((1 - y) * tf.log(1.0 - z2)) ) * -1) # cross entropy"
   ]
  },
  {
   "cell_type": "code",
   "execution_count": 50,
   "metadata": {
    "collapsed": true
   },
   "outputs": [],
   "source": [
    "train_step = tf.train.GradientDescentOptimizer(learning_rate=0.01).minimize(lossfn)"
   ]
  },
  {
   "cell_type": "code",
   "execution_count": 51,
   "metadata": {
    "collapsed": true
   },
   "outputs": [],
   "source": [
    "ini=tf.global_variables_initializer() "
   ]
  },
  {
   "cell_type": "code",
   "execution_count": 52,
   "metadata": {
    "collapsed": true
   },
   "outputs": [],
   "source": [
    "with tf.Session() as sess:\n",
    "    corrpred=tf.equal(tf.round(z2),y)\n",
    "    acc=tf.reduce_mean(tf.cast(corrpred,tf.float32))\n",
    "    #print(sess.run(acc,feed_dict={x:Xd,y:yd}))"
   ]
  },
  {
   "cell_type": "code",
   "execution_count": 53,
   "metadata": {
    "collapsed": true
   },
   "outputs": [],
   "source": [
    "sess.run(ini)\n",
    "#while (sess.run(acc,feed_dict={x: Xd,y: yd})) != 1.0:\n",
    "#    sess.run(train_step,feed_dict={x: Xd, y: yd})\n",
    "\n",
    "for i in range(100000):\n",
    "    sess.run(train_step, feed_dict={x: Xq, y: yq})  "
   ]
  },
  {
   "cell_type": "code",
   "execution_count": 55,
   "metadata": {
    "collapsed": false
   },
   "outputs": [
    {
     "name": "stdout",
     "output_type": "stream",
     "text": [
      "0.9835\n"
     ]
    }
   ],
   "source": [
    "correct_prediction = tf.equal(tf.round(z2),y) # aca estams definiendo otras operacioes\n",
    "accuracy = tf.reduce_mean(tf.cast(correct_prediction, tf.float32))\n",
    "print(sess.run(accuracy, feed_dict={x: Xq, y: yq})) # las corremos"
   ]
  },
  {
   "cell_type": "markdown",
   "metadata": {},
   "source": [
    "**Prediccion**"
   ]
  },
  {
   "cell_type": "code",
   "execution_count": 56,
   "metadata": {
    "collapsed": true
   },
   "outputs": [],
   "source": [
    "zz1=tf.sigmoid(tf.add(tf.matmul(x,W1),b1)) "
   ]
  },
  {
   "cell_type": "code",
   "execution_count": 57,
   "metadata": {
    "collapsed": true
   },
   "outputs": [],
   "source": [
    "zz2=tf.sigmoid(tf.add(tf.matmul(zz1,W2),b2))"
   ]
  },
  {
   "cell_type": "code",
   "execution_count": 62,
   "metadata": {
    "collapsed": false
   },
   "outputs": [],
   "source": [
    "zx=sess.run(zz2,feed_dict={x:Xq})"
   ]
  },
  {
   "cell_type": "code",
   "execution_count": 63,
   "metadata": {
    "collapsed": false
   },
   "outputs": [
    {
     "data": {
      "text/plain": [
       "array([[  7.87409663e-01],\n",
       "       [  2.54354715e-01],\n",
       "       [  1.78066660e-02],\n",
       "       ..., \n",
       "       [  4.92785824e-04],\n",
       "       [  9.95385587e-01],\n",
       "       [  9.97407377e-01]], dtype=float32)"
      ]
     },
     "execution_count": 63,
     "metadata": {},
     "output_type": "execute_result"
    }
   ],
   "source": [
    "zx"
   ]
  },
  {
   "cell_type": "code",
   "execution_count": 64,
   "metadata": {
    "collapsed": false
   },
   "outputs": [
    {
     "data": {
      "text/plain": [
       "3435.0"
      ]
     },
     "execution_count": 64,
     "metadata": {},
     "output_type": "execute_result"
    }
   ],
   "source": [
    "dd=np.round(zx)\n",
    "np.sum(dd)"
   ]
  },
  {
   "cell_type": "code",
   "execution_count": 67,
   "metadata": {
    "collapsed": false
   },
   "outputs": [
    {
     "data": {
      "text/plain": [
       "(-6.6084591074582901,\n",
       " 6.6063766950321039,\n",
       " -6.6149313872776636,\n",
       " 6.6140441264928977)"
      ]
     },
     "execution_count": 67,
     "metadata": {},
     "output_type": "execute_result"
    },
    {
     "data": {
      "image/png": "[encoded data removed]",
      "text/plain": [
       "<matplotlib.figure.Figure at 0x7f9a041bb1d0>"
      ]
     },
     "metadata": {},
     "output_type": "display_data"
    }
   ],
   "source": [
    "plt.scatter(dat['x1'],dat['x2'],color=['green' if i==1 else 'yellow' for i in dd]) \n",
    "plt.scatter(dat[dat['y']==1]['x1'],dat[dat['y']==1]['x2'],color='red',alpha=0.1)\n",
    "plt.axis(\"equal\")"
   ]
  },
  {
   "cell_type": "code",
   "execution_count": null,
   "metadata": {
    "collapsed": true
   },
   "outputs": [],
   "source": []
  }
 ],
 "metadata": {
  "kernelspec": {
   "display_name": "Python 3",
   "language": "python",
   "name": "python3"
  },
  "language_info": {
   "codemirror_mode": {
    "name": "ipython",
    "version": 3
   },
   "file_extension": ".py",
   "mimetype": "text/x-python",
   "name": "python",
   "nbconvert_exporter": "python",
   "pygments_lexer": "ipython3",
   "version": "3.6.0"
  }
 },
 "nbformat": 4,
 "nbformat_minor": 2
}
